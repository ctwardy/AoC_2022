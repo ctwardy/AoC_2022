{
 "cells": [
  {
   "cell_type": "markdown",
   "metadata": {},
   "source": [
    "# day2\n",
    "\n",
    "> AoC Day2: Rock Paper Scissors\n",
    "\n",
    "Decode the elf's RPS strategy and score the game. \n",
    "Strategy data will be in two columns like:\n",
    "```\n",
    "A Y\n",
    "B X\n",
    "C Z\n",
    "```\n",
    "This strategy guide predicts opponent will play Rock (A), then Paper (B), then Scissors (C). \n",
    "It recommends you play:\n",
    "* Paper (Y) two win with score of 2 for Paper + 6 for win = 8.\n",
    "* Rock (X) with score of 1 for Rock + 0 for loss = 1. \n",
    "* Scissors (Z) for score of 3 for Scissors + 3 for draw = 6.\n",
    "* **Total Score = 15**"
   ]
  },
  {
   "cell_type": "code",
   "execution_count": null,
   "metadata": {},
   "outputs": [],
   "source": [
    "#| default_exp day2"
   ]
  },
  {
   "cell_type": "code",
   "execution_count": null,
   "metadata": {},
   "outputs": [],
   "source": [
    "#| hide\n",
    "from nbdev.showdoc import *"
   ]
  },
  {
   "cell_type": "markdown",
   "metadata": {},
   "source": [
    "Solution sketch:\n",
    "\n",
    "* Read the file\n",
    "* Replace {A,X} -> Rock, {B,Y} -> Paper, {C,Z} -> Scissors\n",
    "* Move scores: Rock=1, Paper=2, Scissors=3\n",
    "* Win scores: Loss=0, Draw=3, Win=6\n",
    "* Score each round, sum"
   ]
  },
  {
   "cell_type": "markdown",
   "metadata": {},
   "source": [
    "# Part 1"
   ]
  },
  {
   "cell_type": "markdown",
   "metadata": {},
   "source": [
    "## Get the data\n",
    "Decode both moves to R, P, S. Keep as a two-letter string like \"RP\"."
   ]
  },
  {
   "cell_type": "code",
   "execution_count": null,
   "metadata": {},
   "outputs": [],
   "source": [
    "RPS_CODE = str.maketrans(\"ABCXYZ\", \"RPSRPS\", \" \")\n",
    "def rps_decode(data: str) -> str:\n",
    "    return str.translate(data, RPS_CODE)"
   ]
  },
  {
   "cell_type": "code",
   "execution_count": null,
   "metadata": {},
   "outputs": [
    {
     "data": {
      "text/plain": [
       "['PP', 'SS', 'SP', 'SP', 'RR']"
      ]
     },
     "execution_count": null,
     "metadata": {},
     "output_type": "execute_result"
    }
   ],
   "source": [
    "with open(\"../data/day2_input.txt\") as f:\n",
    "    data = [x.strip()\n",
    "             .translate(RPS_CODE)\n",
    "             for x in f.readlines()]\n",
    "data[:5]"
   ]
  },
  {
   "cell_type": "markdown",
   "metadata": {},
   "source": [
    "## Define the scoring"
   ]
  },
  {
   "cell_type": "code",
   "execution_count": null,
   "metadata": {},
   "outputs": [],
   "source": [
    "#| export\n",
    "\n",
    "win, lose, draw = 6, 0, 3\n",
    "MOVE_SCORES = {\"R\": 1, \"P\": 2, \"S\": 3}\n",
    "OUTCOMES = {\"RR\": draw, \"PP\": draw, \"SS\": draw,\n",
    "            \"RP\": win, \"PS\": win, \"SR\": win,\n",
    "            \"RS\": lose, \"SP\": lose, \"PR\": lose}\n",
    "\n",
    "def score_round(moves: str) -> int:\n",
    "    my_move = moves[1]\n",
    "    return MOVE_SCORES[my_move] + OUTCOMES[moves]\n",
    "\n",
    "def score_strategy(strategy: list[str]) -> int:\n",
    "    return sum(score_round(row) for row in strategy)"
   ]
  },
  {
   "cell_type": "markdown",
   "metadata": {},
   "source": [
    "## Test using the example"
   ]
  },
  {
   "cell_type": "code",
   "execution_count": null,
   "metadata": {},
   "outputs": [],
   "source": [
    "assert score_round(\"RP\") == 8   # win + 2\n",
    "assert score_round(\"RR\") == 4   # draw + 1\n",
    "assert score_round(\"RS\") == 3   # lose + 3\n",
    "\n",
    "test = [\"A Y\", \"B X\", \"C Z\"]\n",
    "test = [x.translate(RPS_CODE) for x in test]\n",
    "assert [score_round(x) for x in test] == [8, 1, 6]\n",
    "assert score_strategy(test) == 15"
   ]
  },
  {
   "cell_type": "markdown",
   "metadata": {},
   "source": [
    "## Run on the data"
   ]
  },
  {
   "cell_type": "code",
   "execution_count": null,
   "metadata": {},
   "outputs": [
    {
     "data": {
      "text/plain": [
       "11841"
      ]
     },
     "execution_count": null,
     "metadata": {},
     "output_type": "execute_result"
    }
   ],
   "source": [
    "score_strategy(data)"
   ]
  },
  {
   "cell_type": "markdown",
   "metadata": {},
   "source": [
    "# Part 2\n",
    "\n",
    "**No wait!** We had it wrong.  The code is really: \n",
    "```\n",
    "X : You must lose\n",
    "Y : You must draw\n",
    "Z : You must win\n",
    "```\n",
    "All else is the same, so the example is now:\n",
    "```\n",
    "A Y -> RR -> Draw -> 1 + 3 = 4\n",
    "B X -> PR -> Lose -> 1 + 0 = 1\n",
    "C Z -> SR -> Win  -> 1 + 6 = 7\n",
    "                             --\n",
    "                             12\n",
    "```\n",
    "\n",
    "We have to change `rps_decode` because our moves now depend on theirs."
   ]
  },
  {
   "cell_type": "markdown",
   "metadata": {},
   "source": [
    "## Redefine the coding"
   ]
  },
  {
   "cell_type": "code",
   "execution_count": null,
   "metadata": {},
   "outputs": [],
   "source": [
    "#| export\n",
    "RPS_CODE = str.maketrans(\"ABC\", \"RPS\", \" \")\n",
    "WIN_MOVES = {\"R\": \"P\", \"P\":\"S\", \"S\":\"R\"}\n",
    "LOSE_MOVES = {\"R\": \"S\", \"P\":\"R\", \"S\":\"P\"}\n",
    "DRAW_MOVES = {\"R\": \"R\", \"P\":\"P\", \"S\":\"S\"}\n",
    "\n",
    "def rps_decode(code: str) -> str:\n",
    "    \"\"\"Convert coded 'A X' type string to 'RS' type string. \"\"\"\n",
    "    opp_move, strat = str.translate(code, RPS_CODE)\n",
    "    my_move = get_plan(strat)[opp_move]\n",
    "    return f\"{opp_move}{my_move}\"\n",
    "\n",
    "def get_plan(strat: str) -> dict:\n",
    "    \"\"\"Return dict of resposes for 1-letter strat\"\"\"\n",
    "    if strat == \"X\": # lose\n",
    "        return LOSE_MOVES\n",
    "    elif strat == \"Y\": # draw\n",
    "        return DRAW_MOVES\n",
    "    return WIN_MOVES\n",
    "    "
   ]
  },
  {
   "cell_type": "markdown",
   "metadata": {},
   "source": [
    "## Test using example"
   ]
  },
  {
   "cell_type": "code",
   "execution_count": null,
   "metadata": {},
   "outputs": [],
   "source": [
    "test = [\"A Y\", \"B X\", \"C Z\"]\n",
    "test = [rps_decode(x) for x in test]\n",
    "assert [score_round(x) for x in test] == [4, 1, 7]\n",
    "assert score_strategy(test) == 12"
   ]
  },
  {
   "cell_type": "markdown",
   "metadata": {},
   "source": [
    "## Run on data"
   ]
  },
  {
   "cell_type": "code",
   "execution_count": null,
   "metadata": {},
   "outputs": [
    {
     "data": {
      "text/plain": [
       "13022"
      ]
     },
     "execution_count": null,
     "metadata": {},
     "output_type": "execute_result"
    }
   ],
   "source": [
    "with open(\"../data/day2_input.txt\") as f:\n",
    "    data = [rps_decode(x.strip()) for x in f.readlines()]\n",
    "score_strategy(data)"
   ]
  },
  {
   "cell_type": "markdown",
   "metadata": {},
   "source": []
  },
  {
   "cell_type": "code",
   "execution_count": null,
   "metadata": {},
   "outputs": [],
   "source": [
    "#| hide\n",
    "import nbdev; nbdev.nbdev_export()"
   ]
  }
 ],
 "metadata": {
  "kernelspec": {
   "display_name": "Python 3 (ipykernel)",
   "language": "python",
   "name": "python3"
  }
 },
 "nbformat": 4,
 "nbformat_minor": 4
}
