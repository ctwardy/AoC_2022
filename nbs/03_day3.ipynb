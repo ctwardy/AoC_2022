{
 "cells": [
  {
   "cell_type": "markdown",
   "metadata": {},
   "source": [
    "# day3\n",
    "\n",
    "> AoC Day3: Rucksack Reorganization\n",
    "\n",
    "Each rucksack has two compartments. Items of a type should go into exactly one. Packing elf failed for exactly one item per rucksack.\n",
    "\n",
    "**Input:** items now in each rucksack, 52 types a-zA-Z.\n",
    "First half in compartment 1, second in 2. \n",
    "\n",
    "Read on."
   ]
  },
  {
   "cell_type": "code",
   "execution_count": null,
   "metadata": {},
   "outputs": [],
   "source": [
    "#| default_exp day3"
   ]
  },
  {
   "cell_type": "code",
   "execution_count": null,
   "metadata": {},
   "outputs": [],
   "source": [
    "#| hide\n",
    "from nbdev.showdoc import *\n",
    "%load_ext autoreload\n",
    "%autoreload 2"
   ]
  },
  {
   "cell_type": "markdown",
   "metadata": {},
   "source": [
    "## Example:\n",
    "Suppose we have the following list of 6 pack contents:"
   ]
  },
  {
   "cell_type": "code",
   "execution_count": null,
   "metadata": {},
   "outputs": [],
   "source": [
    "#| exports\n",
    "\n",
    "example = \"\"\"\n",
    "vJrwpWtwJgWrhcsFMMfFFhFp\n",
    "jqHRNqRjqzjGDLGLrsFMfFZSrLrFZsSL\n",
    "PmmdzqPrVvPwwTWBwg\n",
    "wMqvLMZHhHMvwLHjbvcjnnSBnvTQFn\n",
    "ttgJtRGJQctTZtZT\n",
    "CrZsJsPPZsGzwwsLwLmpwMDw\n",
    "\"\"\"\n",
    "\n",
    "packs_ex = example.split()"
   ]
  },
  {
   "cell_type": "markdown",
   "metadata": {},
   "source": [
    "We can get their lengths:"
   ]
  },
  {
   "cell_type": "code",
   "execution_count": null,
   "metadata": {},
   "outputs": [
    {
     "data": {
      "text/plain": [
       "[24, 32, 18, 30, 16, 24]"
      ]
     },
     "execution_count": null,
     "metadata": {},
     "output_type": "execute_result"
    }
   ],
   "source": [
    "lengths = [len(x) for x in packs_ex]\n",
    "lengths"
   ]
  },
  {
   "cell_type": "markdown",
   "metadata": {},
   "source": [
    "Each pack is evenly divided into two comparments:"
   ]
  },
  {
   "cell_type": "code",
   "execution_count": null,
   "metadata": {},
   "outputs": [
    {
     "data": {
      "text/plain": [
       "[('vJrwpWtwJgWr', 'hcsFMMfFFhFp'),\n",
       " ('jqHRNqRjqzjGDLGL', 'rsFMfFZSrLrFZsSL'),\n",
       " ('PmmdzqPrV', 'vPwwTWBwg'),\n",
       " ('wMqvLMZHhHMvwLH', 'jbvcjnnSBnvTQFn'),\n",
       " ('ttgJtRGJ', 'QctTZtZT'),\n",
       " ('CrZsJsPPZsGz', 'wwsLwLmpwMDw')]"
      ]
     },
     "execution_count": null,
     "metadata": {},
     "output_type": "execute_result"
    }
   ],
   "source": [
    "#| exports\n",
    "#| code-fold: true\n",
    "\n",
    "def get_compartments(packs: list[str] # List of pack contents like ['vJrwpWtw', ...]\n",
    "                    ) -> list[tuple]: # Split each pack like ('vJrw', 'pWtw')\n",
    "    \"\"\"Split each pack down the middle.\"\"\"\n",
    "    lengths = [len(x) for x in packs]\n",
    "    return [(pack[:lengths[i]//2], pack[lengths[i]//2:]) \n",
    "                for i, pack in enumerate(packs)]\n",
    "\n",
    "get_compartments(packs_ex)"
   ]
  },
  {
   "cell_type": "markdown",
   "metadata": {},
   "source": [
    "Note each pack has precisely _one_ item that is in both compartments:"
   ]
  },
  {
   "cell_type": "code",
   "execution_count": null,
   "metadata": {},
   "outputs": [
    {
     "data": {
      "text/plain": [
       "['p', 'L', 'P', 'v', 't', 's']"
      ]
     },
     "execution_count": null,
     "metadata": {},
     "output_type": "execute_result"
    }
   ],
   "source": [
    "#| exports\n",
    "#| code-fold: true\n",
    "\n",
    "def get_shared(compartments: list[tuple] # ('vJrw','pWtw')\n",
    "              ) -> list[str]: # Single char like 'w' here.\n",
    "    \"\"\"Find the shared item in each pack: same in both compartments.\"\"\"\n",
    "    return [set(left).intersection(right).pop()\n",
    "            for left, right in compartments]\n",
    "\n",
    "shared = get_shared(get_compartments(packs_ex))\n",
    "shared"
   ]
  },
  {
   "cell_type": "markdown",
   "metadata": {},
   "source": [
    "And each item has a priority: \n",
    "```\n",
    "   a..z -> 1..26\n",
    "   A..Z -> 27..52\n",
    "```"
   ]
  },
  {
   "cell_type": "code",
   "execution_count": null,
   "metadata": {},
   "outputs": [],
   "source": [
    "#| exports\n",
    "#| code-fold: true\n",
    "\n",
    "BASE_LOWER = ord(\"a\") - 1    # 1..26\n",
    "BASE_UPPER = ord(\"A\") - 27   # 27..52\n",
    "\n",
    "def priority(char: str # Single char like 'w'\n",
    "            ) -> int: # Priority 1..52\n",
    "    \"\"\"Return priority 1..52 of item in pack.\"\"\"\n",
    "    if char.lower() == char:\n",
    "        return ord(char) - BASE_LOWER\n",
    "    return ord(char) - BASE_UPPER\n"
   ]
  },
  {
   "cell_type": "markdown",
   "metadata": {},
   "source": [
    "Test that"
   ]
  },
  {
   "cell_type": "code",
   "execution_count": null,
   "metadata": {},
   "outputs": [],
   "source": [
    "#| test\n",
    "assert [priority(x) for x in shared] == [16, 38, 42, 22, 20, 19]"
   ]
  },
  {
   "cell_type": "markdown",
   "metadata": {},
   "source": [
    "# Part 1"
   ]
  },
  {
   "cell_type": "markdown",
   "metadata": {},
   "source": [
    "## Get the data\n",
    "Decode both moves to R, P, S. Keep as a two-letter string like \"RP\"."
   ]
  },
  {
   "cell_type": "code",
   "execution_count": null,
   "metadata": {},
   "outputs": [
    {
     "data": {
      "text/plain": [
       "['CjhshBJCSrTTsLwqwqwb',\n",
       " 'GtmnFHlDfcpHbLZjtTTRLWwb',\n",
       " 'fDfNHHjVFNvvrvVBJJdS',\n",
       " 'PPWvWQjPhrPQwlMWJJdMDGbJTdCJ',\n",
       " 'rsqsStgNNggBNBZHSrJGdJdCFRRZCFbGbTdJ']"
      ]
     },
     "execution_count": null,
     "metadata": {},
     "output_type": "execute_result"
    }
   ],
   "source": [
    "with open(\"../data/day3_input.txt\") as f:\n",
    "    packs1 = [x.strip() for x in f.readlines()]\n",
    "packs1[:5]"
   ]
  },
  {
   "cell_type": "markdown",
   "metadata": {},
   "source": [
    "## Run"
   ]
  },
  {
   "cell_type": "code",
   "execution_count": null,
   "metadata": {},
   "outputs": [
    {
     "data": {
      "text/plain": [
       "7766"
      ]
     },
     "execution_count": null,
     "metadata": {},
     "output_type": "execute_result"
    }
   ],
   "source": [
    "priorities = [priority(x) for x in\n",
    "    get_shared(get_compartments(packs1))]\n",
    "sum(priorities)"
   ]
  },
  {
   "cell_type": "markdown",
   "metadata": {},
   "source": [
    "# Part 2\n",
    "\n",
    "Elves are divided into \"badged\" groups of 3.\n",
    "\n",
    "The \"badge\" is the **only item type carried by all 3**.\n",
    "\n",
    "So in group `B`, all 3 elves have an item of type `B`. (Ok.) And at most two have any other item type. (_Wait, what?_) \n",
    "\n",
    "Every set of 3 lines in your list is a badge group. In the example, the first 3 lines are group `r` and the second is `Z`.\n",
    "\n",
    "**We need to generalize `get_shared()`.**  Let's try `functools.reduce` and define `get_badge` with that.\n",
    "\n"
   ]
  },
  {
   "cell_type": "markdown",
   "metadata": {},
   "source": [
    "## Find badge for a group"
   ]
  },
  {
   "cell_type": "code",
   "execution_count": null,
   "metadata": {},
   "outputs": [],
   "source": [
    "#| exports\n",
    "#| code-fold: true\n",
    "\n",
    "from typing import Collection\n",
    "from functools import reduce\n",
    "\n",
    "def intersect(left: Collection, # Items in first group\n",
    "              right: Collection # Items in second group\n",
    "             ) -> str: # Items common to both \n",
    "    \"\"\"Find set intersection btw two args.\"\"\"\n",
    "    return set(left).intersection(right)\n",
    "\n",
    "def get_badge(group: list[str] # List of item names\n",
    "             ) -> str: # The single item common to all\n",
    "    \"\"\"Find common item. Assumes there is precisely 1.\"\"\"\n",
    "    return reduce(intersect, group).pop()"
   ]
  },
  {
   "cell_type": "code",
   "execution_count": null,
   "metadata": {},
   "outputs": [],
   "source": [
    "#| test\n",
    "assert get_badge(packs_ex[:3]) == \"r\"\n",
    "assert get_badge(packs_ex[3:6]) == \"Z\""
   ]
  },
  {
   "cell_type": "markdown",
   "metadata": {},
   "source": [
    "## Find groups from packlist"
   ]
  },
  {
   "cell_type": "code",
   "execution_count": null,
   "metadata": {},
   "outputs": [],
   "source": [
    "#| exports\n",
    "#| code-fold: true\n",
    "\n",
    "def get_groups(packs: list[str] # List of all packs\n",
    "              ) -> list[list]:  # Divided into lists of 3\n",
    "    \"\"\"Split packlist into groups of 3\"\"\"\n",
    "    return [[packs[i], packs[i+1], packs[i+2]]\n",
    "            for i in range(0, len(packs), 3)]"
   ]
  },
  {
   "cell_type": "code",
   "execution_count": null,
   "metadata": {},
   "outputs": [
    {
     "data": {
      "text/plain": [
       "[['vJrwpWtwJgWrhcsFMMfFFhFp',\n",
       "  'jqHRNqRjqzjGDLGLrsFMfFZSrLrFZsSL',\n",
       "  'PmmdzqPrVvPwwTWBwg'],\n",
       " ['wMqvLMZHhHMvwLHjbvcjnnSBnvTQFn',\n",
       "  'ttgJtRGJQctTZtZT',\n",
       "  'CrZsJsPPZsGzwwsLwLmpwMDw']]"
      ]
     },
     "execution_count": null,
     "metadata": {},
     "output_type": "execute_result"
    }
   ],
   "source": [
    "get_groups(packs_ex)"
   ]
  },
  {
   "cell_type": "code",
   "execution_count": null,
   "metadata": {},
   "outputs": [],
   "source": [
    "#| test\n",
    "assert [get_badge(group)\n",
    "        for group in get_groups(packs_ex)] == ['r','Z']"
   ]
  },
  {
   "cell_type": "markdown",
   "metadata": {},
   "source": [
    "## Run"
   ]
  },
  {
   "cell_type": "code",
   "execution_count": null,
   "metadata": {},
   "outputs": [
    {
     "data": {
      "text/plain": [
       "2415"
      ]
     },
     "execution_count": null,
     "metadata": {},
     "output_type": "execute_result"
    }
   ],
   "source": [
    "badges = [get_badge(group) \n",
    "          for group in get_groups(packs1)]\n",
    "sum([priority(x) for x in badges])"
   ]
  },
  {
   "cell_type": "markdown",
   "metadata": {},
   "source": [
    " "
   ]
  },
  {
   "cell_type": "code",
   "execution_count": null,
   "metadata": {},
   "outputs": [],
   "source": [
    "#| hide\n",
    "import nbdev; nbdev.nbdev_export()"
   ]
  }
 ],
 "metadata": {
  "kernelspec": {
   "display_name": "Python 3 (ipykernel)",
   "language": "python",
   "name": "python3"
  }
 },
 "nbformat": 4,
 "nbformat_minor": 4
}
