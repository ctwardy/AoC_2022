{
 "cells": [
  {
   "cell_type": "markdown",
   "metadata": {},
   "source": [
    "# day4\n",
    "\n",
    "> Day 4: Camp Cleanup\n",
    "\n",
    "The list of camp cleanup assignments has unfortunate overlaps. For example:\n",
    "```\n",
    "2-4,6-8   First elf has sections 2,3,4; Second has 6,7,8.\n",
    "2-3,4-5   First has 2,3; Second has 4,6\n",
    "5-7,7-9   First has 5,6,7; Second has 7,8,9.\n",
    "```\n",
    "_Actual numbers may be higher._ \n",
    "\n",
    "Some assignments _fully contain the other_. \n",
    "\n",
    "**Find them.**"
   ]
  },
  {
   "cell_type": "code",
   "execution_count": null,
   "metadata": {},
   "outputs": [],
   "source": [
    "#| default_exp day3"
   ]
  },
  {
   "cell_type": "code",
   "execution_count": null,
   "metadata": {},
   "outputs": [],
   "source": [
    "#| hide\n",
    "from nbdev.showdoc import *\n",
    "%load_ext autoreload\n",
    "%autoreload 2"
   ]
  },
  {
   "cell_type": "markdown",
   "metadata": {},
   "source": [
    "## Example:\n",
    "Consider this list of assignments."
   ]
  },
  {
   "cell_type": "code",
   "execution_count": null,
   "metadata": {},
   "outputs": [],
   "source": [
    "example = \"\"\"\n",
    "2-4,6-8\n",
    "2-3,4-5\n",
    "5-7,7-9\n",
    "2-8,3-7\n",
    "6-6,4-6\n",
    "2-6,4-8\n",
    "\"\"\".strip().split()"
   ]
  },
  {
   "cell_type": "markdown",
   "metadata": {},
   "source": [
    "We could do this by comparing min & max. Or we could generate sets from ranges and check intersection is as large as the smaller range. But the second could struggle with very large ranges. "
   ]
  },
  {
   "cell_type": "code",
   "execution_count": null,
   "metadata": {},
   "outputs": [],
   "source": [
    "#| exports\n",
    "#| code-fold: true\n",
    "\n",
    "def get_assignments(data: list[str] # List of assignment pairs \"2-4,6-8\"\n",
    "                    ) -> list[list[int]]: # List of [min,max,min,max]\n",
    "    \"\"\"Split each assignment by commas and dashes.\"\"\"\n",
    "    _ = (row.replace(\"-\",\",\").split(\",\") for row in data)\n",
    "    return [[int(x) for x in row] for row in _]"
   ]
  },
  {
   "cell_type": "code",
   "execution_count": null,
   "metadata": {},
   "outputs": [
    {
     "data": {
      "text/plain": [
       "[[2, 4, 6, 8],\n",
       " [2, 3, 4, 5],\n",
       " [5, 7, 7, 9],\n",
       " [2, 8, 3, 7],\n",
       " [6, 6, 4, 6],\n",
       " [2, 6, 4, 8]]"
      ]
     },
     "execution_count": null,
     "metadata": {},
     "output_type": "execute_result"
    }
   ],
   "source": [
    "assignments = get_assignments(example)\n",
    "assignments"
   ]
  },
  {
   "cell_type": "code",
   "execution_count": null,
   "metadata": {},
   "outputs": [],
   "source": [
    "#| exports\n",
    "#| code-fold: true\n",
    "\n",
    "def right_contains_left(row: list[int] # [min,max,min,max]\n",
    "                       )-> bool: # Right pair contains left\n",
    "    return (row[2] <= row[0]) and (row[3] >= row[1])\n",
    "\n",
    "def left_contains_right(row: list[int] # [min,max,min,max]\n",
    "                       )-> bool: # Left pair contains right\n",
    "    return (row[0] <= row[2]) and (row[1] >= row[3])\n",
    "\n",
    "def contains(row: list[int] # [min,max,min,max]\n",
    "            )-> bool: # One pair contains the other\n",
    "    return right_contains_left(row) or left_contains_right(row)\n",
    "\n"
   ]
  },
  {
   "cell_type": "markdown",
   "metadata": {},
   "source": [
    "Test that"
   ]
  },
  {
   "cell_type": "code",
   "execution_count": null,
   "metadata": {},
   "outputs": [],
   "source": [
    "#| test\n",
    "\n",
    "assert [contains(row) for row in assignments] == [False, False, False, True, True, False]"
   ]
  },
  {
   "cell_type": "markdown",
   "metadata": {},
   "source": [
    "# Part 1"
   ]
  },
  {
   "cell_type": "markdown",
   "metadata": {},
   "source": [
    "## Get the data\n"
   ]
  },
  {
   "cell_type": "code",
   "execution_count": null,
   "metadata": {},
   "outputs": [
    {
     "data": {
      "text/plain": [
       "['14-28,13-28', '72-81,82-91', '4-4,6-95']"
      ]
     },
     "execution_count": null,
     "metadata": {},
     "output_type": "execute_result"
    }
   ],
   "source": [
    "with open(\"data/day4_input.txt\") as f:\n",
    "    data = [x.strip() for x in f.readlines()]\n",
    "data[:3]"
   ]
  },
  {
   "cell_type": "markdown",
   "metadata": {},
   "source": [
    "## Run"
   ]
  },
  {
   "cell_type": "code",
   "execution_count": null,
   "metadata": {},
   "outputs": [
    {
     "data": {
      "text/plain": [
       "'305 assignment pairs fully overlap'"
      ]
     },
     "execution_count": null,
     "metadata": {},
     "output_type": "execute_result"
    }
   ],
   "source": [
    "assignments = get_assignments(data)\n",
    "contains = [contains(row) for row in assignments]\n",
    "f\"{sum(contains):,} assignment pairs fully overlap\""
   ]
  },
  {
   "cell_type": "markdown",
   "metadata": {},
   "source": [
    "# Part 2\n",
    "\n",
    "OK, how many _overlap at all_?\n",
    "\n",
    "Tempting to reuse `day2.intersect` but in case the ranges are billions long, let's just do some min/max checking again. For some reason it's easier for me to reason about `disjoint` first and then define `overlap` as `not disjoint`.\n"
   ]
  },
  {
   "cell_type": "code",
   "execution_count": null,
   "metadata": {},
   "outputs": [],
   "source": [
    "#| exports\n",
    "#| code-fold: true\n",
    "\n",
    "def disjoint(row: list[int] # [min,max,min,max]\n",
    "            )-> bool:       # The ranges are disjoint\n",
    "    # min1 > max2 or max1 < min2\n",
    "    return (row[0] > row[3]) or (row[1] < row[2])\n",
    "\n",
    "def overlap(row: list[int] # [min,max,min,max]\n",
    "            )-> bool:       # The ranges overlap\n",
    "    return not disjoint(row)\n"
   ]
  },
  {
   "cell_type": "markdown",
   "metadata": {},
   "source": [
    "## Run"
   ]
  },
  {
   "cell_type": "code",
   "execution_count": null,
   "metadata": {},
   "outputs": [
    {
     "data": {
      "text/plain": [
       "'811 assignments overlap at all.'"
      ]
     },
     "execution_count": null,
     "metadata": {},
     "output_type": "execute_result"
    }
   ],
   "source": [
    "#| test\n",
    "overlaps = [overlap(x) for x in get_assignments(data)]\n",
    "f\"{sum(overlaps):,} assignments overlap at all.\""
   ]
  },
  {
   "cell_type": "markdown",
   "metadata": {},
   "source": [
    " "
   ]
  },
  {
   "cell_type": "code",
   "execution_count": null,
   "metadata": {},
   "outputs": [],
   "source": [
    "#| hide\n",
    "import nbdev; nbdev.nbdev_export()"
   ]
  }
 ],
 "metadata": {
  "kernelspec": {
   "display_name": "Python 3 (ipykernel)",
   "language": "python",
   "name": "python3"
  }
 },
 "nbformat": 4,
 "nbformat_minor": 4
}
