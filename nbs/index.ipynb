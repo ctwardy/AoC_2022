{
 "cells": [
  {
   "cell_type": "code",
   "execution_count": null,
   "metadata": {},
   "outputs": [],
   "source": [
    "#| hide\n",
    "from AoC_2022.core import *\n",
    "%load_ext autoreload\n",
    "%autoreload 2"
   ]
  },
  {
   "cell_type": "markdown",
   "metadata": {},
   "source": [
    "# AoC_2022\n",
    "\n",
    "> Charles' Advent of Code 2022 Entries"
   ]
  },
  {
   "cell_type": "markdown",
   "metadata": {},
   "source": [
    "This is my first year of AoC, and I've decided to use it to practice with [nbdev](https://nbdev.fast.ai) to automatically generate modules and [documentation](https://ctwardy.github.io/AoC_2022/) from my notebooks.\n",
    "\n",
    "I'll probably evolve my organization as I go.  I did Day 1 with a regular python module and that made sense to put each day in its own folder with data as `input.txt`. But I think with nbdev it makes sense to have the usual `nbs` folder for all the notebooks, one per day. In that case I'll put the data in `data/dayX_input.txt`. Like so:"
   ]
  },
  {
   "cell_type": "code",
   "execution_count": null,
   "metadata": {},
   "outputs": [
    {
     "name": "stdout",
     "output_type": "stream",
     "text": [
      "day2_input.txt day3_input.txt\r\n"
     ]
    }
   ],
   "source": [
    "#| exec_doc\n",
    "\n",
    "!ls ../data"
   ]
  },
  {
   "cell_type": "markdown",
   "metadata": {},
   "source": [
    "## Install"
   ]
  },
  {
   "cell_type": "markdown",
   "metadata": {},
   "source": [
    "There's no reason to install this, so we're not using nbdev's ability to automatically package for pip and conda.  Probably you will just browse the [documentation](https://ctwardy.github.io/AoC_2022/) or [view the code](https://github.com/ctwardy/AoC_2022) in GitHub.  Of course you could `git pull` the code yourself if you want.  If using https that would be:\n",
    "```shell\n",
    "git pull https://github.com/ctwardy/AoC_2022.git\n",
    "```\n",
    "If using the git CLI that would be:\n",
    "```shell\n",
    "gh repo clone ctwardy/AoC_2022.git\n",
    "```"
   ]
  },
  {
   "cell_type": "markdown",
   "metadata": {},
   "source": [
    "## How to use"
   ]
  },
  {
   "cell_type": "markdown",
   "metadata": {},
   "source": [
    "All functions are exported to the `AoC_2022` package.  \n",
    "\n",
    "1. Install the package locally. \n",
    "```shell\n",
    "pip install -e '.[dev]'\n",
    "```\n",
    "\n",
    "2. Import the desired module and use its functions.\n",
    "\n",
    "For example:"
   ]
  },
  {
   "cell_type": "code",
   "execution_count": null,
   "metadata": {},
   "outputs": [
    {
     "data": {
      "text/plain": [
       "13022"
      ]
     },
     "execution_count": null,
     "metadata": {},
     "output_type": "execute_result"
    }
   ],
   "source": [
    "#| exec_doc\n",
    "\n",
    "from AoC_2022.day2 import *\n",
    "\n",
    "with open(\"../data/day2_input.txt\") as f:\n",
    "    data = [rps_decode(x.strip()) for x in f.readlines()]\n",
    "score_strategy(data)"
   ]
  },
  {
   "cell_type": "code",
   "execution_count": null,
   "metadata": {},
   "outputs": [],
   "source": []
  }
 ],
 "metadata": {
  "kernelspec": {
   "display_name": "Python 3 (ipykernel)",
   "language": "python",
   "name": "python3"
  }
 },
 "nbformat": 4,
 "nbformat_minor": 4
}
