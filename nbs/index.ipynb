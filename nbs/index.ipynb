{
 "cells": [
  {
   "cell_type": "code",
   "execution_count": null,
   "metadata": {},
   "outputs": [],
   "source": [
    "#| hide\n",
    "from AoC_2022.core import *"
   ]
  },
  {
   "cell_type": "markdown",
   "metadata": {},
   "source": [
    "# AoC_2022\n",
    "\n",
    "> Charles' Advent of Code 2022 Entries"
   ]
  },
  {
   "cell_type": "markdown",
   "metadata": {},
   "source": [
    "This is my first year of AoC, and I've decided to use it to practice with [nbdev](https://nbdev.fast.ai) to automatically generate modules and documentation from my notebooks.\n",
    "\n",
    "I'll probably evolve my organization as I go.  I did Day 1 with a regular python module and that made sense to put each day in its own folder with data as `input.txt`. But I think with nbdev it makes sense to have the usual `nbs` folder for all the notebooks, one per day. In that case I'll put the data in `data/dayX_input.txt`. Like so:"
   ]
  },
  {
   "cell_type": "code",
   "execution_count": null,
   "metadata": {},
   "outputs": [
    {
     "name": "stdout",
     "output_type": "stream",
     "text": [
      "day2_input.txt\r\n"
     ]
    }
   ],
   "source": [
    "!ls ../data"
   ]
  },
  {
   "cell_type": "markdown",
   "metadata": {},
   "source": [
    "## Install"
   ]
  },
  {
   "cell_type": "markdown",
   "metadata": {},
   "source": [
    "```sh\n",
    "pip install AoC_2022\n",
    "```"
   ]
  },
  {
   "cell_type": "markdown",
   "metadata": {},
   "source": [
    "## How to use"
   ]
  },
  {
   "cell_type": "markdown",
   "metadata": {},
   "source": [
    "You should then be able to import the desired module and run it.\n",
    "\n",
    "TBD: standardize the data input so each day has the same command.\n",
    "\n",
    "TBD: and maybe just a `.run` method or something"
   ]
  },
  {
   "cell_type": "code",
   "execution_count": null,
   "metadata": {},
   "outputs": [
    {
     "data": {
      "text/plain": [
       "13022"
      ]
     },
     "execution_count": null,
     "metadata": {},
     "output_type": "execute_result"
    }
   ],
   "source": [
    "from AoC_2022.day2 import *\n",
    "\n",
    "with open(\"../data/day2_input.txt\") as f:\n",
    "    data = [rps_decode(x.strip()) for x in f.readlines()]\n",
    "score_strategy(data)"
   ]
  },
  {
   "cell_type": "code",
   "execution_count": null,
   "metadata": {},
   "outputs": [],
   "source": []
  }
 ],
 "metadata": {
  "kernelspec": {
   "display_name": "Python 3 (ipykernel)",
   "language": "python",
   "name": "python3"
  }
 },
 "nbformat": 4,
 "nbformat_minor": 4
}
