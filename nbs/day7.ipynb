{
 "cells": [
  {
   "cell_type": "markdown",
   "metadata": {},
   "source": [
    "# day7\n",
    "\n",
    "> Day 7: No space left on device\n"
   ]
  },
  {
   "cell_type": "markdown",
   "metadata": {},
   "source": [
    "This one is more complicated. Going to start at the _end_ of the description and work back. \n",
    "\n",
    "OK, I did, but as I worked back I kept adding things to the core classes, so it doesn't start as simple as I did.\n"
   ]
  },
  {
   "cell_type": "code",
   "execution_count": null,
   "metadata": {},
   "outputs": [],
   "source": [
    "#| default_exp day6\n",
    "NAME = \"day7\""
   ]
  },
  {
   "cell_type": "code",
   "execution_count": null,
   "metadata": {},
   "outputs": [],
   "source": [
    "#| hide\n",
    "from nbdev.showdoc import *\n",
    "%load_ext autoreload\n",
    "%autoreload 2"
   ]
  },
  {
   "cell_type": "markdown",
   "metadata": {},
   "source": [
    "---"
   ]
  },
  {
   "cell_type": "markdown",
   "metadata": {},
   "source": [
    "# Define classes"
   ]
  },
  {
   "cell_type": "markdown",
   "metadata": {},
   "source": [
    "## Directory"
   ]
  },
  {
   "cell_type": "markdown",
   "metadata": {},
   "source": [
    "To begin, find all of the directories with a total size of at most 100000, then calculate the sum of their total sizes. In the example above, these directories are a and e; the sum of their total sizes is 95437 (94853 + 584). (As in this example, this process can count files more than once!)\n",
    "```\n",
    "- a (dir)\n",
    "    - e (dir)\n",
    "      - i (file, size=584)\n",
    "    - f (file, size=29116)\n",
    "    - g (file, size=2557)\n",
    "    - h.lst (file, size=62596)\n",
    "```"
   ]
  },
  {
   "cell_type": "code",
   "execution_count": null,
   "metadata": {},
   "outputs": [],
   "source": [
    "#| exports\n",
    "#| code-fold: true\n",
    "\n",
    "from dataclasses import dataclass, field\n",
    "\n",
    "@dataclass\n",
    "class FileObj():\n",
    "    \"\"\"Base class for File & Directory. Has a name\"\"\"\n",
    "    name: str\n",
    "        \n",
    "@dataclass\n",
    "class File(FileObj):\n",
    "    \"\"\"Files have name and size\"\"\"\n",
    "    size: int\n",
    "        \n",
    "    def __str__(me):\n",
    "        return f\"{me.name} (file, size={me.size})\""
   ]
  },
  {
   "cell_type": "code",
   "execution_count": null,
   "metadata": {},
   "outputs": [],
   "source": [
    "#| test\n",
    "i = File(\"i\", 584)\n",
    "f = File(\"f\", 29116)\n",
    "g = File(\"g\", 2557)\n",
    "h = File(\"h.lst\", size=62596)\n",
    "files = [i, f, g, h]\n",
    "\n",
    "assert f\"{i}\" == \"i (file, size=584)\""
   ]
  },
  {
   "cell_type": "markdown",
   "metadata": {},
   "source": [
    "**Directories** compute their `.size` from their members. This is naturally recursive. 😊\n",
    "\n",
    "Started really simple.  Added methods as I needed them later. Now has:\n",
    "\n",
    "* `parent` so we can build `path` and know `depth`. Starts as `None`. \n",
    "   Gets assigned when our parent adds us.  Lets `__str__` to get indents right and avoids\n",
    "   lets this structure be self-sufficient.\n",
    "* Provides `[]` getting and setting, hiding internal dict `_files`. \n",
    "* Provides `subdirs` to get flat list of all subdirs under me. \n",
    "  Not sure this belongs _in_ the class.\n",
    "\n",
    ":::{.comment-alert}\n",
    "Initializing `_files: []` turns all `Directory` into Ender chests. Beware the _default-mutable_!\n",
    ":::\n",
    "\n",
    ":::{.comment-alert}\n",
    "First solution failed in Part 1 (too low) because reused names tangled the tree.\n",
    "\n",
    "Second solution failed in Part 1 (too high) because of a different way to tangle the tree.\n",
    "\n",
    ":::"
   ]
  },
  {
   "cell_type": "code",
   "execution_count": null,
   "metadata": {},
   "outputs": [],
   "source": [
    "#| exports\n",
    "#| code-fold: true\n",
    "\n",
    "@dataclass\n",
    "class Directory(FileObj):\n",
    "    \"\"\"Directories have kids (files or dirs), and PARENT\"\"\"\n",
    "    parent: FileObj=None\n",
    "    _kids: dict[str: FileObj] = field(default_factory=dict)\n",
    "    \n",
    "    @property\n",
    "    def size(me):\n",
    "        return sum(f.size for f in me._kids.values())\n",
    "    \n",
    "    @property\n",
    "    def path(me) -> str:\n",
    "        \"\"\"The path/to/me/\"\"\"\n",
    "        try:\n",
    "            return f\"{me.parent.path}{me.name}/\"\n",
    "        except AttributeError:\n",
    "            return f\"{me.name}/\"\n",
    "        \n",
    "    @property\n",
    "    def depth(me):\n",
    "        \"\"\"How far down the tree am me?\"\"\"\n",
    "        return me.path.count(\"/\") - me.path.count(\"//\") - 1\n",
    "    \n",
    "    @property\n",
    "    def subdirs(me):\n",
    "        \"\"\"My kids what has kids\"\"\"\n",
    "        return [x for x in me if isinstance(x, Directory)]\n",
    "        \n",
    "    def append(me, obj: FileObj) -> None:\n",
    "        \"\"\"Shortcut : obj already has name; use as key.\"\"\"\n",
    "        me[obj.name] = obj\n",
    "        \n",
    "    def __str__(me):\n",
    "        \"\"\"Indented tree below me.\"\"\"\n",
    "        indent = \"  \" * me.depth\n",
    "        head = f\"{me.name} (dir, size={me.size})\"\n",
    "        tail = f\"\\n\".join(f\"{indent} - {val}\" for val in me)  # uses __iter__\n",
    "        return f\"{head}\\n{tail}\"\n",
    "    \n",
    "    def __iter__(me):\n",
    "        \"\"\"Return iterator of objects (not names!) in _kids.\"\"\"\n",
    "        return iter(me._kids.values())\n",
    "    \n",
    "    def __getitem__(me, name: str) -> FileObj:\n",
    "        \"\"\"Get member FileObj by name. Or die.\"\"\"\n",
    "        return me._kids[name]\n",
    "\n",
    "    def __setitem__(me, name: str, arg: FileObj) -> None:\n",
    "        \"\"\"Add {arg.name: arg} to _files; if possible, set arg.parent->me.\"\"\"\n",
    "        me._kids[name] = arg\n",
    "        if isinstance(arg, Directory):\n",
    "            if arg.parent is not None:\n",
    "                raise(ValueError, \"We are stealing someone else's kid!\")\n",
    "            arg.parent = me\n"
   ]
  },
  {
   "cell_type": "markdown",
   "metadata": {},
   "source": [
    "Test recursive size in 2-item case, and show `__str__`."
   ]
  },
  {
   "cell_type": "code",
   "execution_count": null,
   "metadata": {},
   "outputs": [
    {
     "name": "stdout",
     "output_type": "stream",
     "text": [
      "e (dir, size=584)\n",
      " - i (file, size=584)\n"
     ]
    }
   ],
   "source": [
    "#| test\n",
    "e = Directory(\"e\")\n",
    "e.append(i)\n",
    "assert e.size == i.size == 584\n",
    "assert e[\"i\"] == i\n",
    "assert e.depth == 0\n",
    "print(e)"
   ]
  },
  {
   "cell_type": "markdown",
   "metadata": {},
   "source": [
    "Ensure new Directory is independent!  (Catch default mutable error.)"
   ]
  },
  {
   "cell_type": "code",
   "execution_count": null,
   "metadata": {},
   "outputs": [
    {
     "name": "stdout",
     "output_type": "stream",
     "text": [
      "/ (dir, size=29116)\n",
      " - f (file, size=29116)\n"
     ]
    }
   ],
   "source": [
    "#| test\n",
    "f = File(\"f\", 29116)\n",
    "root = Directory(\"/\")\n",
    "root.append(f)\n",
    "assert root.size == f.size == 29116\n",
    "assert root.depth == 0\n",
    "print(root)"
   ]
  },
  {
   "cell_type": "markdown",
   "metadata": {},
   "source": [
    "Test recursive sum and depth. Also show two-layer `__str__`."
   ]
  },
  {
   "cell_type": "code",
   "execution_count": null,
   "metadata": {},
   "outputs": [
    {
     "name": "stdout",
     "output_type": "stream",
     "text": [
      "/ (dir, size=95365)\n",
      " - f (file, size=29116)\n",
      " - a (dir, size=66249)\n",
      "   - e (dir, size=584)\n",
      "     - i (file, size=584)\n",
      "   - f (file, size=512)\n",
      "   - g (file, size=2557)\n",
      "   - h.lst (file, size=62596)\n",
      "   - k (dir, size=0)\n",
      "\n"
     ]
    }
   ],
   "source": [
    "#| test\n",
    "a = Directory(\"a\")\n",
    "root.append(a)\n",
    "g, h = File(\"g\", 2557), File(\"h.lst\", size=62596)\n",
    "f2 = File(\"f\", 512) # <- Another file named f!\n",
    "assert f2 is not f\n",
    "\n",
    "for item in [e, f2, g, h, Directory(\"k\")]:\n",
    "    a.append(item)\n",
    "\n",
    "print(root)\n",
    "assert a.size == 66249\n",
    "assert root.size == f.size + a.size\n",
    "assert root.depth == 0\n",
    "assert a.depth == 1\n",
    "assert e.depth == 2\n",
    "assert a[\"k\"].depth == 2"
   ]
  },
  {
   "cell_type": "markdown",
   "metadata": {},
   "source": [
    "Test the `subdirs` property at two depths. "
   ]
  },
  {
   "cell_type": "code",
   "execution_count": null,
   "metadata": {},
   "outputs": [],
   "source": [
    "#| test\n",
    "assert [x.name for x in root.subdirs] == ['a']\n",
    "assert [x.name for x in a.subdirs] == ['e', 'k']"
   ]
  },
  {
   "cell_type": "markdown",
   "metadata": {},
   "source": [
    "## All subdirs\n",
    "\n",
    "> This is basically a filtered depth-first traversal. "
   ]
  },
  {
   "cell_type": "markdown",
   "metadata": {},
   "source": [
    "This used to return dir objects. Changed to (name, size) tuples while trying to track down Part1 error that turned out to be something else entirely."
   ]
  },
  {
   "cell_type": "code",
   "execution_count": null,
   "metadata": {},
   "outputs": [],
   "source": [
    "#| exports\n",
    "#| code-fold: true\n",
    "\n",
    "def get_all_subdirs(start: Directory) -> list[Directory]:\n",
    "    \"\"\"Return flat list of (name, size) for _all_ dirs under `start` dir.\"\"\"\n",
    "    my_dirs = [(x.name, x.size) for x in start.subdirs]\n",
    "    for _dir in start.subdirs:\n",
    "        my_dirs.extend(get_all_subdirs(_dir))\n",
    "    return my_dirs"
   ]
  },
  {
   "cell_type": "code",
   "execution_count": null,
   "metadata": {},
   "outputs": [
    {
     "data": {
      "text/plain": [
       "[('a', 66249), ('e', 584), ('k', 0)]"
      ]
     },
     "execution_count": null,
     "metadata": {},
     "output_type": "execute_result"
    }
   ],
   "source": [
    "get_all_subdirs(root)"
   ]
  },
  {
   "cell_type": "code",
   "execution_count": null,
   "metadata": {},
   "outputs": [],
   "source": [
    "#| test\n",
    "assert [x[0] for x in get_all_subdirs(root)] == ['a', 'e', 'k']"
   ]
  },
  {
   "cell_type": "markdown",
   "metadata": {},
   "source": [
    "OK, looks good!  Now need to read the data."
   ]
  },
  {
   "cell_type": "markdown",
   "metadata": {},
   "source": [
    "# Example"
   ]
  },
  {
   "cell_type": "code",
   "execution_count": null,
   "metadata": {},
   "outputs": [],
   "source": [
    "#| exports\n",
    "\n",
    "example = \"\"\"\n",
    "$ cd /\n",
    "$ ls\n",
    "dir a\n",
    "14848514 b.txt\n",
    "8504156 c.dat\n",
    "dir d\n",
    "$ cd a\n",
    "$ ls\n",
    "dir e\n",
    "29116 f\n",
    "2557 g\n",
    "62596 h.lst\n",
    "$ cd e\n",
    "$ ls\n",
    "584 i\n",
    "$ cd ..\n",
    "$ cd ..\n",
    "$ cd d\n",
    "$ ls\n",
    "4060174 j\n",
    "8033020 d.log\n",
    "5626152 d.ext\n",
    "7214296 k\n",
    "\"\"\".strip().split(\"\\n\")"
   ]
  },
  {
   "cell_type": "markdown",
   "metadata": {},
   "source": [
    "## Parse the dirs"
   ]
  },
  {
   "cell_type": "code",
   "execution_count": null,
   "metadata": {},
   "outputs": [
    {
     "name": "stdout",
     "output_type": "stream",
     "text": [
      "\tfrom cd /\t in line 0\n",
      "❚\tfrom cd a\t in line 6\n",
      "❚❚\tfrom cd e\t in line 12\n",
      "❚\tfrom cd ..\t in line 15\n",
      "\tfrom cd ..\t in line 16\n",
      "❚\tfrom cd d\t in line 17\n"
     ]
    }
   ],
   "source": [
    "#| exports\n",
    "#| code-fold: true\n",
    "\n",
    "def get_dirs(commands: list[str]) -> Directory:\n",
    "    \"\"\"Create dir tree from '/'. Return all dirs\"\"\"\n",
    "    root = Directory(\"/\")\n",
    "    dirstack = [root]\n",
    "\n",
    "    for i, line in enumerate(commands):\n",
    "        cur_dir = dirstack[-1]\n",
    "        match line.split():\n",
    "            case (\"$\", \"ls\"):\n",
    "                continue\n",
    "            case (\"dir\", dirname):\n",
    "                try:\n",
    "                    cur_dir[dirname]  # Should fail, unless twice ls same dir\n",
    "                    print(\"*********** {dirname} already in {cur_dir.name}!\")\n",
    "                except KeyError:\n",
    "                    cur_dir.append(Directory(dirname))\n",
    "            case (\"$\", \"cd\", dirname):\n",
    "                match dirname:\n",
    "                    case \"/\":\n",
    "                        dirstack = [root]\n",
    "                    case \"..\":\n",
    "                        dirstack.pop()\n",
    "                    case _: \n",
    "                        dirstack.append(cur_dir[dirname])\n",
    "                depth = len(dirstack) - 1\n",
    "                print(f'{\"❚\" * depth}\\tfrom cd {dirname}\\t in line {i}')\n",
    "            case (size, name):\n",
    "                f = File(name, int(size))\n",
    "                cur_dir.append(f)\n",
    "            case _:\n",
    "                raise ValueError(f\"Unrecognized line: '{line}'\")\n",
    "    return root\n",
    "            \n",
    "dirs = get_dirs(example)"
   ]
  },
  {
   "cell_type": "code",
   "execution_count": null,
   "metadata": {},
   "outputs": [
    {
     "name": "stdout",
     "output_type": "stream",
     "text": [
      "/ (dir, size=48381165)\n",
      " - a (dir, size=94853)\n",
      "   - e (dir, size=584)\n",
      "     - i (file, size=584)\n",
      "   - f (file, size=29116)\n",
      "   - g (file, size=2557)\n",
      "   - h.lst (file, size=62596)\n",
      " - b.txt (file, size=14848514)\n",
      " - c.dat (file, size=8504156)\n",
      " - d (dir, size=24933642)\n",
      "   - j (file, size=4060174)\n",
      "   - d.log (file, size=8033020)\n",
      "   - d.ext (file, size=5626152)\n",
      "   - k (file, size=7214296)\n"
     ]
    }
   ],
   "source": [
    "#| test\n",
    "print(dirs)\n",
    "assert len(str(dirs).split(\"\\n\")) == 14"
   ]
  },
  {
   "cell_type": "markdown",
   "metadata": {},
   "source": [
    "We're told:\n",
    "> The total size of directory e is 584 because it contains a single file i of size 584 and no other directories.\n",
    "The directory a has total size 94853 because it contains files f (size 29116), g (size 2557), and h.lst (size 62596), plus file i indirectly (a contains e which contains i).\n",
    "Directory d has total size 24933642.\n",
    "As the outermost directory, / contains every file. Its total size is 48381165, the sum of the size of every file."
   ]
  },
  {
   "cell_type": "code",
   "execution_count": null,
   "metadata": {},
   "outputs": [],
   "source": [
    "#| test\n",
    "\n",
    "assert dirs['a']['e'].size == 584\n",
    "assert dirs['a'].size == 94853\n",
    "assert dirs['d'].size == 24933642\n",
    "assert dirs.size == 48381165"
   ]
  },
  {
   "cell_type": "markdown",
   "metadata": {},
   "source": [
    ":::{.comment-note}\n",
    "**ToDo** Special case `dirs[\"/\"]` to get self?\n",
    ":::"
   ]
  },
  {
   "cell_type": "markdown",
   "metadata": {},
   "source": [
    "## With total size ≤ 100K"
   ]
  },
  {
   "cell_type": "markdown",
   "metadata": {},
   "source": [
    "To begin, find all of the directories with a total size of at most 100000, then calculate the sum of their total sizes. In the example above, these directories are a and e; the sum of their total sizes is 95437 (94853 + 584). (As in this example, this process can count files more than once!)\n",
    "\n"
   ]
  },
  {
   "cell_type": "code",
   "execution_count": null,
   "metadata": {},
   "outputs": [],
   "source": [
    "#| exports\n",
    "#| code-fold: true\n",
    "\n",
    "def sum_cutoff(start: Directory, cutoff=100_000) -> int:\n",
    "    subdirs = get_all_subdirs(start)\n",
    "    sizes = [x[1] for x in subdirs if x[1] < 100_000]\n",
    "    return sum(x for x in sizes if x <= cutoff)"
   ]
  },
  {
   "cell_type": "code",
   "execution_count": null,
   "metadata": {},
   "outputs": [],
   "source": [
    "#| test\n",
    "\n",
    "assert sum_cutoff(dirs) == 95437"
   ]
  },
  {
   "cell_type": "markdown",
   "metadata": {},
   "source": [
    "# Part 1"
   ]
  },
  {
   "cell_type": "markdown",
   "metadata": {},
   "source": [
    "## Get the data\n"
   ]
  },
  {
   "cell_type": "code",
   "execution_count": null,
   "metadata": {},
   "outputs": [],
   "source": [
    "input_name = f\"data/{NAME}_input.txt\"\n",
    "with open(f\"data/{NAME}_input.txt\") as f:\n",
    "    data = f.read()\n",
    "data = data.strip().split(\"\\n\")"
   ]
  },
  {
   "cell_type": "markdown",
   "metadata": {},
   "source": [
    "Examine the data - because it broke code that worked on the example."
   ]
  },
  {
   "cell_type": "code",
   "execution_count": null,
   "metadata": {},
   "outputs": [
    {
     "name": "stdout",
     "output_type": "stream",
     "text": [
      "Data has 1014 commands. First few:\n",
      "$ cd /\n",
      "$ ls\n",
      "dir blgtdv\n",
      "dir dbrfcz\n",
      "dir fvspj\n",
      "dir hbjmndt\n",
      "dir hzg\n",
      "dir jpjgdm\n",
      "dir mtd\n",
      "dir pcpf\n",
      "There are 182 lines with 'dir'.\n"
     ]
    }
   ],
   "source": [
    "print(f\"Data has {len(data)} commands. First few:\")\n",
    "print(\"\\n\".join(x for x in data[:10]))\n",
    "lines_with_dir = [x for x in data if x.startswith('dir')]\n",
    "print(f\"There are {len(lines_with_dir)} lines with 'dir'.\")"
   ]
  },
  {
   "cell_type": "markdown",
   "metadata": {},
   "source": [
    "Note that names get reused!"
   ]
  },
  {
   "cell_type": "code",
   "execution_count": null,
   "metadata": {},
   "outputs": [
    {
     "name": "stdout",
     "output_type": "stream",
     "text": [
      "There are 13 rows with 'cd fvspj'!\n",
      "There are 13 rows with 'dir fvspj'!\n"
     ]
    }
   ],
   "source": [
    "fvspj = [row for row in data if \"cd fvspj\" in row]\n",
    "fvspj2 = [row for row in data if \"dir fvspj\" in row]\n",
    "print(f\"There are {len(fvspj)} rows with 'cd fvspj'!\")\n",
    "print(f\"There are {len(fvspj2)} rows with 'dir fvspj'!\")"
   ]
  },
  {
   "cell_type": "markdown",
   "metadata": {},
   "source": [
    "## Run"
   ]
  },
  {
   "cell_type": "code",
   "execution_count": null,
   "metadata": {},
   "outputs": [
    {
     "name": "stdout",
     "output_type": "stream",
     "text": [
      "\tfrom cd /\t in line 0\n",
      "❚\tfrom cd blgtdv\t in line 13\n",
      "❚❚\tfrom cd bjlcfcfq\t in line 23\n",
      "❚❚❚\tfrom cd fvspj\t in line 28\n",
      "❚❚\tfrom cd ..\t in line 32\n",
      "❚❚❚\tfrom cd pwcvj\t in line 33\n",
      "❚❚❚❚\tfrom cd bjp\t in line 46\n",
      "❚❚❚❚❚\tfrom cd scggvb\t in line 49\n",
      "❚❚❚❚\tfrom cd ..\t in line 52\n",
      "❚❚❚\tfrom cd ..\t in line 53\n",
      "❚❚❚❚\tfrom cd drsgv\t in line 54\n",
      "❚❚❚\tfrom cd ..\t in line 59\n",
      "❚❚❚❚\tfrom cd lpv\t in line 60\n",
      "❚❚❚\tfrom cd ..\t in line 64\n",
      "❚❚❚❚\tfrom cd mmtsh\t in line 65\n",
      "❚❚❚\tfrom cd ..\t in line 68\n",
      "❚❚❚❚\tfrom cd pwcvj\t in line 69\n",
      "❚❚❚❚❚\tfrom cd dnfnl\t in line 72\n",
      "❚❚❚❚\tfrom cd ..\t in line 75\n",
      "❚❚❚\tfrom cd ..\t in line 76\n",
      "❚❚❚❚\tfrom cd rdftpm\t in line 77\n",
      "❚❚❚\tfrom cd ..\t in line 81\n",
      "❚❚❚❚\tfrom cd rzhq\t in line 82\n",
      "❚❚❚❚❚\tfrom cd wcnm\t in line 85\n",
      "❚❚❚❚\tfrom cd ..\t in line 88\n",
      "❚❚❚\tfrom cd ..\t in line 89\n",
      "❚❚\tfrom cd ..\t in line 90\n",
      "❚❚❚\tfrom cd tvhrzql\t in line 91\n",
      "❚❚\tfrom cd ..\t in line 94\n",
      "❚\tfrom cd ..\t in line 95\n",
      "❚❚\tfrom cd gzzz\t in line 96\n",
      "❚\tfrom cd ..\t in line 99\n",
      "❚❚\tfrom cd nbdzs\t in line 100\n",
      "❚\tfrom cd ..\t in line 104\n",
      "❚❚\tfrom cd vvmcfptr\t in line 105\n",
      "❚\tfrom cd ..\t in line 109\n",
      "❚❚\tfrom cd wjvzwssp\t in line 110\n",
      "❚\tfrom cd ..\t in line 113\n",
      "\tfrom cd ..\t in line 114\n",
      "❚\tfrom cd dbrfcz\t in line 115\n",
      "\tfrom cd ..\t in line 119\n",
      "❚\tfrom cd fvspj\t in line 120\n",
      "❚❚\tfrom cd cdc\t in line 130\n",
      "❚\tfrom cd ..\t in line 134\n",
      "❚❚\tfrom cd fvspj\t in line 135\n",
      "❚❚❚\tfrom cd pwcvj\t in line 141\n",
      "❚❚\tfrom cd ..\t in line 144\n",
      "❚❚❚\tfrom cd qrd\t in line 145\n",
      "❚❚\tfrom cd ..\t in line 148\n",
      "❚\tfrom cd ..\t in line 149\n",
      "❚❚\tfrom cd pwcvj\t in line 150\n",
      "❚\tfrom cd ..\t in line 155\n",
      "❚❚\tfrom cd qtnnz\t in line 156\n",
      "❚\tfrom cd ..\t in line 160\n",
      "\tfrom cd ..\t in line 161\n",
      "❚\tfrom cd hbjmndt\t in line 162\n",
      "\tfrom cd ..\t in line 168\n",
      "❚\tfrom cd hzg\t in line 169\n",
      "\tfrom cd ..\t in line 172\n",
      "❚\tfrom cd jpjgdm\t in line 173\n",
      "❚❚\tfrom cd fpgcdvm\t in line 183\n",
      "❚❚❚\tfrom cd lsj\t in line 192\n",
      "❚❚❚❚\tfrom cd hdttgfvj\t in line 195\n",
      "❚❚❚❚❚\tfrom cd pwcvj\t in line 198\n",
      "❚❚❚❚\tfrom cd ..\t in line 201\n",
      "❚❚❚\tfrom cd ..\t in line 202\n",
      "❚❚\tfrom cd ..\t in line 203\n",
      "❚❚❚\tfrom cd qrd\t in line 204\n",
      "❚❚❚❚\tfrom cd btltml\t in line 208\n",
      "❚❚❚\tfrom cd ..\t in line 212\n",
      "❚❚❚❚\tfrom cd rggvfrgb\t in line 213\n",
      "❚❚❚\tfrom cd ..\t in line 217\n",
      "❚❚\tfrom cd ..\t in line 218\n",
      "❚\tfrom cd ..\t in line 219\n",
      "❚❚\tfrom cd fqh\t in line 220\n",
      "❚❚❚\tfrom cd fvspj\t in line 225\n",
      "❚❚❚❚\tfrom cd fvspj\t in line 228\n",
      "❚❚❚\tfrom cd ..\t in line 231\n",
      "❚❚\tfrom cd ..\t in line 232\n",
      "❚❚❚\tfrom cd lpv\t in line 233\n",
      "❚❚\tfrom cd ..\t in line 236\n",
      "❚❚❚\tfrom cd pdqss\t in line 237\n",
      "❚❚\tfrom cd ..\t in line 240\n",
      "❚\tfrom cd ..\t in line 241\n",
      "❚❚\tfrom cd mcszw\t in line 242\n",
      "❚❚❚\tfrom cd hdcpljg\t in line 246\n",
      "❚❚❚❚\tfrom cd cwrzb\t in line 249\n",
      "❚❚❚\tfrom cd ..\t in line 252\n",
      "❚❚\tfrom cd ..\t in line 253\n",
      "❚❚❚\tfrom cd jpgrltj\t in line 254\n",
      "❚❚❚❚\tfrom cd frqzwfbd\t in line 264\n",
      "❚❚❚❚❚\tfrom cd rbpwmbg\t in line 267\n",
      "❚❚❚❚\tfrom cd ..\t in line 270\n",
      "❚❚❚\tfrom cd ..\t in line 271\n",
      "❚❚❚❚\tfrom cd fvspj\t in line 272\n",
      "❚❚❚❚❚\tfrom cd bjlcfcfq\t in line 275\n",
      "❚❚❚❚\tfrom cd ..\t in line 278\n",
      "❚❚❚\tfrom cd ..\t in line 279\n",
      "❚❚❚❚\tfrom cd mhrnnhhz\t in line 280\n",
      "❚❚❚❚❚\tfrom cd qrd\t in line 284\n",
      "❚❚❚❚\tfrom cd ..\t in line 287\n",
      "❚❚❚❚❚\tfrom cd vwtrwbc\t in line 288\n",
      "❚❚❚❚\tfrom cd ..\t in line 291\n",
      "❚❚❚\tfrom cd ..\t in line 292\n",
      "❚❚❚❚\tfrom cd mmf\t in line 293\n",
      "❚❚❚❚❚\tfrom cd dvtbrnp\t in line 302\n",
      "❚❚❚❚\tfrom cd ..\t in line 306\n",
      "❚❚❚❚❚\tfrom cd qrd\t in line 307\n",
      "❚❚❚❚\tfrom cd ..\t in line 313\n",
      "❚❚❚❚❚\tfrom cd rfnnt\t in line 314\n",
      "❚❚❚❚\tfrom cd ..\t in line 317\n",
      "❚❚❚❚❚\tfrom cd sgrnztrg\t in line 318\n",
      "❚❚❚❚❚❚\tfrom cd fqzt\t in line 328\n",
      "❚❚❚❚❚❚❚\tfrom cd jrvwtcm\t in line 334\n",
      "❚❚❚❚❚❚❚❚\tfrom cd lpv\t in line 338\n",
      "❚❚❚❚❚❚❚❚❚\tfrom cd jnzjz\t in line 345\n",
      "❚❚❚❚❚❚❚❚\tfrom cd ..\t in line 348\n",
      "❚❚❚❚❚❚❚\tfrom cd ..\t in line 349\n",
      "❚❚❚❚❚❚❚❚\tfrom cd qrd\t in line 350\n",
      "❚❚❚❚❚❚❚\tfrom cd ..\t in line 355\n",
      "❚❚❚❚❚❚\tfrom cd ..\t in line 356\n",
      "❚❚❚❚❚❚❚\tfrom cd lvwvhh\t in line 357\n",
      "❚❚❚❚❚❚\tfrom cd ..\t in line 360\n",
      "❚❚❚❚❚❚❚\tfrom cd qdmwttjf\t in line 361\n",
      "❚❚❚❚❚❚\tfrom cd ..\t in line 364\n",
      "❚❚❚❚❚\tfrom cd ..\t in line 365\n",
      "❚❚❚❚❚❚\tfrom cd fwnfzlsh\t in line 366\n",
      "❚❚❚❚❚\tfrom cd ..\t in line 371\n",
      "❚❚❚❚❚❚\tfrom cd nhdlzz\t in line 372\n",
      "❚❚❚❚❚\tfrom cd ..\t in line 378\n",
      "❚❚❚❚\tfrom cd ..\t in line 379\n",
      "❚❚❚\tfrom cd ..\t in line 380\n",
      "❚❚❚❚\tfrom cd prpmrtc\t in line 381\n",
      "❚❚❚❚❚\tfrom cd hblbht\t in line 387\n",
      "❚❚❚❚\tfrom cd ..\t in line 390\n",
      "❚❚❚\tfrom cd ..\t in line 391\n",
      "❚❚\tfrom cd ..\t in line 392\n",
      "❚\tfrom cd ..\t in line 393\n",
      "❚❚\tfrom cd tgrplmn\t in line 394\n",
      "❚❚❚\tfrom cd lpv\t in line 402\n",
      "❚❚❚❚\tfrom cd bjlcfcfq\t in line 414\n",
      "❚❚❚❚❚\tfrom cd dcl\t in line 425\n",
      "❚❚❚❚❚❚\tfrom cd fvspj\t in line 429\n",
      "❚❚❚❚❚❚❚\tfrom cd mqbpjgpp\t in line 437\n",
      "❚❚❚❚❚❚\tfrom cd ..\t in line 441\n",
      "❚❚❚❚❚\tfrom cd ..\t in line 442\n",
      "❚❚❚❚❚❚\tfrom cd hfjtj\t in line 443\n",
      "❚❚❚❚❚\tfrom cd ..\t in line 449\n",
      "❚❚❚❚\tfrom cd ..\t in line 450\n",
      "❚❚❚❚❚\tfrom cd fvspj\t in line 451\n",
      "❚❚❚❚❚❚\tfrom cd brcr\t in line 457\n",
      "❚❚❚❚❚❚❚\tfrom cd bjlcfcfq\t in line 464\n",
      "❚❚❚❚❚❚\tfrom cd ..\t in line 467\n",
      "❚❚❚❚❚❚❚\tfrom cd grlppjws\t in line 468\n",
      "❚❚❚❚❚❚❚❚\tfrom cd pbjllgpv\t in line 473\n",
      "❚❚❚❚❚❚❚\tfrom cd ..\t in line 476\n",
      "❚❚❚❚❚❚❚❚\tfrom cd vbfqvcb\t in line 477\n",
      "❚❚❚❚❚❚❚\tfrom cd ..\t in line 480\n",
      "❚❚❚❚❚❚\tfrom cd ..\t in line 481\n",
      "❚❚❚❚❚❚❚\tfrom cd jflb\t in line 482\n",
      "❚❚❚❚❚❚\tfrom cd ..\t in line 486\n",
      "❚❚❚❚❚❚❚\tfrom cd tjw\t in line 487\n",
      "❚❚❚❚❚❚\tfrom cd ..\t in line 490\n",
      "❚❚❚❚❚❚❚\tfrom cd wdnfspnt\t in line 491\n",
      "❚❚❚❚❚❚\tfrom cd ..\t in line 496\n",
      "❚❚❚❚❚\tfrom cd ..\t in line 497\n",
      "❚❚❚❚❚❚\tfrom cd jjhsmhq\t in line 498\n",
      "❚❚❚❚❚❚❚\tfrom cd bjlcfcfq\t in line 507\n",
      "❚❚❚❚❚❚\tfrom cd ..\t in line 510\n",
      "❚❚❚❚❚❚❚\tfrom cd cngcw\t in line 511\n",
      "❚❚❚❚❚❚\tfrom cd ..\t in line 515\n",
      "❚❚❚❚❚❚❚\tfrom cd dgsh\t in line 516\n",
      "❚❚❚❚❚❚\tfrom cd ..\t in line 519\n",
      "❚❚❚❚❚❚❚\tfrom cd fvspj\t in line 520\n",
      "❚❚❚❚❚❚❚❚\tfrom cd jhvhb\t in line 523\n",
      "❚❚❚❚❚❚❚\tfrom cd ..\t in line 528\n",
      "❚❚❚❚❚❚\tfrom cd ..\t in line 529\n",
      "❚❚❚❚❚❚❚\tfrom cd zhh\t in line 530\n",
      "❚❚❚❚❚❚\tfrom cd ..\t in line 533\n",
      "❚❚❚❚❚\tfrom cd ..\t in line 534\n",
      "❚❚❚❚❚❚\tfrom cd vmdsrmpw\t in line 535\n",
      "❚❚❚❚❚❚❚\tfrom cd fznqqt\t in line 541\n",
      "❚❚❚❚❚❚\tfrom cd ..\t in line 546\n",
      "❚❚❚❚❚❚❚\tfrom cd hpmz\t in line 547\n",
      "❚❚❚❚❚❚\tfrom cd ..\t in line 550\n",
      "❚❚❚❚❚\tfrom cd ..\t in line 551\n",
      "❚❚❚❚\tfrom cd ..\t in line 552\n",
      "❚❚❚❚❚\tfrom cd jfd\t in line 553\n",
      "❚❚❚❚\tfrom cd ..\t in line 556\n",
      "❚❚❚❚❚\tfrom cd sjmv\t in line 557\n",
      "❚❚❚❚❚❚\tfrom cd ctlcvb\t in line 564\n",
      "❚❚❚❚❚\tfrom cd ..\t in line 567\n",
      "❚❚❚❚❚❚\tfrom cd lpv\t in line 568\n",
      "❚❚❚❚❚❚❚\tfrom cd cnbzsz\t in line 571\n",
      "❚❚❚❚❚❚\tfrom cd ..\t in line 574\n",
      "❚❚❚❚❚\tfrom cd ..\t in line 575\n",
      "❚❚❚❚\tfrom cd ..\t in line 576\n",
      "❚❚❚❚❚\tfrom cd swzpgbv\t in line 577\n",
      "❚❚❚❚❚❚\tfrom cd qdswczwf\t in line 580\n",
      "❚❚❚❚❚❚❚\tfrom cd rvnwwctv\t in line 587\n",
      "❚❚❚❚❚❚❚❚\tfrom cd lnww\t in line 590\n",
      "❚❚❚❚❚❚❚\tfrom cd ..\t in line 593\n",
      "❚❚❚❚❚❚\tfrom cd ..\t in line 594\n",
      "❚❚❚❚❚❚❚\tfrom cd vppgbl\t in line 595\n",
      "❚❚❚❚❚❚\tfrom cd ..\t in line 598\n",
      "❚❚❚❚❚\tfrom cd ..\t in line 599\n",
      "❚❚❚❚\tfrom cd ..\t in line 600\n",
      "❚❚❚\tfrom cd ..\t in line 601\n",
      "❚❚❚❚\tfrom cd csmssc\t in line 602\n",
      "❚❚❚\tfrom cd ..\t in line 605\n",
      "❚❚❚❚\tfrom cd dpmr\t in line 606\n",
      "❚❚❚❚❚\tfrom cd bjlcfcfq\t in line 615\n",
      "❚❚❚❚\tfrom cd ..\t in line 618\n",
      "❚❚❚❚❚\tfrom cd bqh\t in line 619\n",
      "❚❚❚❚❚❚\tfrom cd hldwv\t in line 622\n",
      "❚❚❚❚❚❚❚\tfrom cd lhtjslpz\t in line 628\n",
      "❚❚❚❚❚❚❚❚\tfrom cd fvspj\t in line 632\n",
      "❚❚❚❚❚❚❚❚❚\tfrom cd tjzcwv\t in line 638\n",
      "❚❚❚❚❚❚❚❚❚❚\tfrom cd shsfppt\t in line 642\n",
      "❚❚❚❚❚❚❚❚❚\tfrom cd ..\t in line 645\n",
      "❚❚❚❚❚❚❚❚\tfrom cd ..\t in line 646\n",
      "❚❚❚❚❚❚❚❚❚\tfrom cd tzdp\t in line 647\n",
      "❚❚❚❚❚❚❚❚\tfrom cd ..\t in line 650\n",
      "❚❚❚❚❚❚❚❚❚\tfrom cd vpwgc\t in line 651\n",
      "❚❚❚❚❚❚❚❚\tfrom cd ..\t in line 654\n",
      "❚❚❚❚❚❚❚\tfrom cd ..\t in line 655\n",
      "❚❚❚❚❚❚\tfrom cd ..\t in line 656\n",
      "❚❚❚❚❚❚❚\tfrom cd qlbsp\t in line 657\n",
      "❚❚❚❚❚❚\tfrom cd ..\t in line 660\n",
      "❚❚❚❚❚\tfrom cd ..\t in line 661\n",
      "❚❚❚❚\tfrom cd ..\t in line 662\n",
      "❚❚❚❚❚\tfrom cd tlmdc\t in line 663\n",
      "❚❚❚❚\tfrom cd ..\t in line 666\n",
      "❚❚❚\tfrom cd ..\t in line 667\n",
      "❚❚❚❚\tfrom cd grt\t in line 668\n",
      "❚❚❚\tfrom cd ..\t in line 671\n",
      "❚❚❚❚\tfrom cd qjm\t in line 672\n",
      "❚❚❚\tfrom cd ..\t in line 675\n",
      "❚❚❚❚\tfrom cd vjbrczs\t in line 676\n",
      "❚❚❚\tfrom cd ..\t in line 679\n",
      "❚❚\tfrom cd ..\t in line 680\n",
      "❚❚❚\tfrom cd mcl\t in line 681\n",
      "❚❚❚❚\tfrom cd qrd\t in line 684\n",
      "❚❚❚\tfrom cd ..\t in line 687\n",
      "❚❚\tfrom cd ..\t in line 688\n",
      "❚❚❚\tfrom cd qswjwpb\t in line 689\n",
      "❚❚❚❚\tfrom cd hjphpcbg\t in line 695\n",
      "❚❚❚\tfrom cd ..\t in line 698\n",
      "❚❚❚❚\tfrom cd lpv\t in line 699\n",
      "❚❚❚\tfrom cd ..\t in line 702\n",
      "❚❚\tfrom cd ..\t in line 703\n",
      "❚❚❚\tfrom cd tlcsgrsm\t in line 704\n",
      "❚❚\tfrom cd ..\t in line 708\n",
      "❚\tfrom cd ..\t in line 709\n",
      "❚❚\tfrom cd tnhs\t in line 710\n",
      "❚❚❚\tfrom cd gszv\t in line 716\n",
      "❚❚❚❚\tfrom cd dmfbw\t in line 726\n",
      "❚❚❚❚❚\tfrom cd nqh\t in line 732\n",
      "❚❚❚❚\tfrom cd ..\t in line 735\n",
      "❚❚❚❚❚\tfrom cd swlq\t in line 736\n",
      "❚❚❚❚❚❚\tfrom cd bslwvw\t in line 741\n",
      "❚❚❚❚❚\tfrom cd ..\t in line 746\n",
      "❚❚❚❚❚❚\tfrom cd gqq\t in line 747\n",
      "❚❚❚❚❚❚❚\tfrom cd blgnqj\t in line 750\n",
      "❚❚❚❚❚❚\tfrom cd ..\t in line 753\n",
      "❚❚❚❚❚\tfrom cd ..\t in line 754\n",
      "❚❚❚❚\tfrom cd ..\t in line 755\n",
      "❚❚❚\tfrom cd ..\t in line 756\n",
      "❚❚❚❚\tfrom cd dnhpgb\t in line 757\n",
      "❚❚❚\tfrom cd ..\t in line 762\n",
      "❚❚❚❚\tfrom cd fvspj\t in line 763\n",
      "❚❚❚❚❚\tfrom cd bcw\t in line 770\n",
      "❚❚❚❚\tfrom cd ..\t in line 773\n",
      "❚❚❚❚❚\tfrom cd lpv\t in line 774\n",
      "❚❚❚❚\tfrom cd ..\t in line 777\n",
      "❚❚❚\tfrom cd ..\t in line 778\n",
      "❚❚❚❚\tfrom cd lpv\t in line 779\n",
      "❚❚❚❚❚\tfrom cd lgzmvj\t in line 783\n",
      "❚❚❚❚\tfrom cd ..\t in line 789\n",
      "❚❚❚\tfrom cd ..\t in line 790\n",
      "❚❚\tfrom cd ..\t in line 791\n",
      "❚❚❚\tfrom cd lgh\t in line 792\n",
      "❚❚\tfrom cd ..\t in line 797\n",
      "❚❚❚\tfrom cd mtbpfwqp\t in line 798\n",
      "❚❚❚❚\tfrom cd zpnwp\t in line 804\n",
      "❚❚❚\tfrom cd ..\t in line 807\n",
      "❚❚\tfrom cd ..\t in line 808\n",
      "❚❚❚\tfrom cd zhgqm\t in line 809\n",
      "❚❚❚❚\tfrom cd pwcvj\t in line 813\n",
      "❚❚❚❚❚\tfrom cd csdfdgw\t in line 821\n",
      "❚❚❚❚\tfrom cd ..\t in line 824\n",
      "❚❚❚❚❚\tfrom cd fvspj\t in line 825\n",
      "❚❚❚❚\tfrom cd ..\t in line 828\n",
      "❚❚❚\tfrom cd ..\t in line 829\n",
      "❚❚\tfrom cd ..\t in line 830\n",
      "❚\tfrom cd ..\t in line 831\n",
      "\tfrom cd ..\t in line 832\n",
      "❚\tfrom cd mtd\t in line 833\n",
      "❚❚\tfrom cd mddvqd\t in line 837\n",
      "❚❚❚\tfrom cd qldj\t in line 840\n",
      "❚❚\tfrom cd ..\t in line 844\n",
      "❚\tfrom cd ..\t in line 845\n",
      "❚❚\tfrom cd tjhsj\t in line 846\n",
      "❚❚❚\tfrom cd fhhbq\t in line 849\n",
      "❚❚\tfrom cd ..\t in line 854\n",
      "❚\tfrom cd ..\t in line 855\n",
      "\tfrom cd ..\t in line 856\n",
      "❚\tfrom cd pcpf\t in line 857\n",
      "❚❚\tfrom cd lpv\t in line 864\n",
      "❚\tfrom cd ..\t in line 867\n",
      "❚❚\tfrom cd zrvqgv\t in line 868\n",
      "❚\tfrom cd ..\t in line 872\n",
      "\tfrom cd ..\t in line 873\n",
      "❚\tfrom cd qfttswwv\t in line 874\n",
      "❚❚\tfrom cd tczrc\t in line 880\n",
      "❚❚❚\tfrom cd hhjsmw\t in line 889\n",
      "❚❚\tfrom cd ..\t in line 892\n",
      "❚❚❚\tfrom cd pwcvj\t in line 893\n",
      "❚❚❚❚\tfrom cd pwcvj\t in line 897\n",
      "❚❚❚❚❚\tfrom cd bjlcfcfq\t in line 906\n",
      "❚❚❚❚\tfrom cd ..\t in line 909\n",
      "❚❚❚❚❚\tfrom cd dhnpch\t in line 910\n",
      "❚❚❚❚\tfrom cd ..\t in line 913\n",
      "❚❚❚❚❚\tfrom cd sjzqb\t in line 914\n",
      "❚❚❚❚\tfrom cd ..\t in line 917\n",
      "❚❚❚\tfrom cd ..\t in line 918\n",
      "❚❚❚❚\tfrom cd qncs\t in line 919\n",
      "❚❚❚\tfrom cd ..\t in line 922\n",
      "❚❚\tfrom cd ..\t in line 923\n",
      "❚\tfrom cd ..\t in line 924\n",
      "❚❚\tfrom cd vbzs\t in line 925\n",
      "❚❚❚\tfrom cd bjlcfcfq\t in line 934\n",
      "❚❚\tfrom cd ..\t in line 937\n",
      "❚❚❚\tfrom cd fvspj\t in line 938\n",
      "❚❚\tfrom cd ..\t in line 941\n",
      "❚❚❚\tfrom cd lpv\t in line 942\n",
      "❚❚❚❚\tfrom cd pwcvj\t in line 949\n",
      "❚❚❚\tfrom cd ..\t in line 952\n",
      "❚❚\tfrom cd ..\t in line 953\n",
      "❚❚❚\tfrom cd mrlb\t in line 954\n",
      "❚❚\tfrom cd ..\t in line 957\n",
      "❚\tfrom cd ..\t in line 958\n",
      "\tfrom cd ..\t in line 959\n",
      "❚\tfrom cd qrd\t in line 960\n",
      "❚❚\tfrom cd gmfgrfh\t in line 965\n",
      "❚\tfrom cd ..\t in line 972\n",
      "❚❚\tfrom cd hcmghq\t in line 973\n",
      "❚❚❚\tfrom cd fgw\t in line 978\n",
      "❚❚❚❚\tfrom cd fvz\t in line 983\n",
      "❚❚❚\tfrom cd ..\t in line 986\n",
      "❚❚❚❚\tfrom cd qrtdvnvv\t in line 987\n",
      "❚❚❚\tfrom cd ..\t in line 990\n",
      "❚❚\tfrom cd ..\t in line 991\n",
      "❚\tfrom cd ..\t in line 992\n",
      "\tfrom cd ..\t in line 993\n",
      "❚\tfrom cd zwqgg\t in line 994\n",
      "❚❚\tfrom cd gqpfcv\t in line 999\n",
      "❚❚❚\tfrom cd mwzt\t in line 1002\n",
      "❚❚\tfrom cd ..\t in line 1005\n",
      "❚\tfrom cd ..\t in line 1006\n",
      "❚❚\tfrom cd lpv\t in line 1007\n",
      "❚\tfrom cd ..\t in line 1010\n",
      "❚❚\tfrom cd qtgqnqh\t in line 1011\n"
     ]
    }
   ],
   "source": [
    "#| output: false\n",
    "part1_tree = get_dirs(data)"
   ]
  },
  {
   "attachments": {
    "image.png": {
     "image/png": "[encoded data removed]"
    }
   },
   "cell_type": "markdown",
   "metadata": {},
   "source": [
    "Screenshot from output:\n",
    "\n",
    "![image.png](attachment:image.png)"
   ]
  },
  {
   "cell_type": "code",
   "execution_count": null,
   "metadata": {},
   "outputs": [
    {
     "name": "stdout",
     "output_type": "stream",
     "text": [
      "/ (dir, size=47870454)\n",
      " - blgtdv (dir, size=4564224)\n",
      "   - bjlcfcfq (dir, size=3239931)\n",
      "     - fvspj (dir, size=327970)\n",
      "       - cqwb.qzt (file, size=315202)\n",
      "       - lmdtnsmr (file, size=12768)\n",
      "     - pwcvj (dir, size=2589622)\n",
      "       - bjp (dir, size=29012)\n",
      "         - scggvb (dir, size=29012)\n",
      "           - lmdtnsmr (file, size=29012)\n",
      "       - btj.sdn (file, size=138548)\n",
      "       - cllbb (file, size=140056)\n",
      "       - drsgv (dir, size=549918)\n",
      "         - btj.sdn (file, size=41717)\n",
      "         - jctnszj.nnc (file, size=203587)\n",
      "         - rdvjhjjr.bbt (file, size=304614)\n",
      "       - fvspj (file, size=311875)\n",
      "       - lpv (dir, size=596985)\n",
      "         - nlrbdjhf (file, size=292112)\n",
      "         - rdvjhjjr.bbt (file, size=304873)\n",
      "       - mmtsh (dir, size=12318)\n",
      "         - fbvvrvc.shb (file, size=12318)\n",
      "       - pwcvj (dir, size=191701)\n",
      "         - dnfnl (dir, size=191701)\n",
      "           - qfswvhj.wgs (file, size=191701)\n",
      "       - qrd.ngg (file, size=252680)\n",
      "       - rdftpm (dir, size=217233)\n",
      "         - fvwcjbsl.tdr (file, size=157406)\n",
      "         - jfdbcwln.frw (file, size=59827)\n",
      "       - rzhq (dir, size=149296)\n",
      "         - wcnm (dir, size=149296)\n",
      "           - wljbd (file, size=149296)\n",
      "     - tvhrzql (dir, size=322339)\n",
      "       - hhlh.tdw (file, size=322339)\n",
      "   - bnm (file, size=83465)\n",
      "   - cllbb (file, size=165543)\n",
      "   - cvbnjz.wzp (file, size=137127)\n",
      "   - gzzz (dir, size=156023)\n",
      "     - btj.sdn (file, size=156023)\n",
      "   - nbdzs (dir, size=268592)\n",
      "     - btj.sdn (file, size=211770)\n",
      "     - qqvmpnj (file, size=56822)\n",
      "   - vvmcfptr (dir, size=244814)\n",
      "     - bbsd.mtl (file, size=199919)\n",
      "     - sspcnf (file, size=44895)\n",
      "   - wjvzwssp (dir, size=268729)\n",
      "     - qplvqdv.mch (file, size=268729)\n",
      " - dbrfcz (dir, size=234681)\n",
      "   - fvspj (file, size=26907)\n",
      "   - lpv.dpq (file, size=207774)\n",
      " - fvspj (dir, size=2963259)\n",
      "   - bjlcfcfq.nhp (file, size=127312)\n",
      "   - cdc (dir, size=499963)\n",
      "     - dtcdwhjt (file, size=278486)\n",
      "     - frwcvtgq.lgt (file, size=221477)\n",
      "   - fvspj (dir, size=751175)\n",
      "     - lpv (file, size=313053)\n",
      "     - mrjzgw.fgf (file, size=106354)\n",
      "     - pwcvj (dir, size=297912)\n",
      "       - nrc.nrf (file, size=297912)\n",
      "     - qrd (dir, size=33856)\n",
      "       - cgjj.hvj (file, size=33856)\n",
      "   - mrjf.qsq (file, size=104875)\n",
      "   - pwcvj (dir, size=695847)\n",
      "     - fvspj (file, size=103274)\n",
      "     - hjgnqgpn.lzh (file, size=308112)\n",
      "     - qrd.qbf (file, size=284461)\n",
      "   - qtnnz (dir, size=327556)\n",
      "     - lmdtnsmr (file, size=74435)\n",
      "     - rdvjhjjr.bbt (file, size=253121)\n",
      "   - rdvjhjjr.bbt (file, size=151668)\n",
      "   - swwgtpv.crc (file, size=304863)\n",
      " - hbjmndt (dir, size=764316)\n",
      "   - bjlcfcfq (file, size=319596)\n",
      "   - pdcjnfh.pdr (file, size=236959)\n",
      "   - pwcvj (file, size=75402)\n",
      "   - qrd.hcg (file, size=132359)\n",
      " - hzg (dir, size=283914)\n",
      "   - wfhbbjn.qft (file, size=283914)\n",
      " - jpjgdm (dir, size=30324496)\n",
      "   - bjlcfcfq (file, size=186272)\n",
      "   - fpgcdvm (dir, size=1769093)\n",
      "     - bbsd.mtl (file, size=150164)\n",
      "     - lsj (dir, size=96128)\n",
      "       - hdttgfvj (dir, size=96128)\n",
      "         - pwcvj (dir, size=96128)\n",
      "           - hszn.dvp (file, size=96128)\n",
      "     - qrd (dir, size=897446)\n",
      "       - btltml (dir, size=413173)\n",
      "         - btj.sdn (file, size=264710)\n",
      "         - lvwcnzf (file, size=148463)\n",
      "       - rggvfrgb (dir, size=484273)\n",
      "         - cllbb (file, size=166064)\n",
      "         - qrd.tgr (file, size=318209)\n",
      "     - qrd.dlm (file, size=72301)\n",
      "     - rdvjhjjr.bbt (file, size=184042)\n",
      "     - rgtrzrnj.ngq (file, size=247165)\n",
      "     - vwwmsd.drj (file, size=121847)\n",
      "   - fqh (dir, size=779450)\n",
      "     - fvspj (dir, size=178819)\n",
      "       - fvspj (dir, size=178819)\n",
      "         - pwcvj.wwt (file, size=178819)\n",
      "     - lpv (dir, size=304819)\n",
      "       - btj.sdn (file, size=304819)\n",
      "     - pdqss (dir, size=295812)\n",
      "       - qvrjfw (file, size=295812)\n",
      "   - frntppq.npt (file, size=196808)\n",
      "   - mcszw (dir, size=7015519)\n",
      "     - hdcpljg (dir, size=119913)\n",
      "       - cwrzb (dir, size=119913)\n",
      "         - cvdrqt.pmm (file, size=119913)\n",
      "     - jpgrltj (dir, size=6895606)\n",
      "       - frqzwfbd (dir, size=272917)\n",
      "         - rbpwmbg (dir, size=272917)\n",
      "           - btj.sdn (file, size=272917)\n",
      "       - fvspj (dir, size=20843)\n",
      "         - bjlcfcfq (dir, size=20843)\n",
      "           - sglqrf.dhq (file, size=20843)\n",
      "       - gpv.vrp (file, size=303128)\n",
      "       - jdtzr (file, size=175649)\n",
      "       - mhrnnhhz (dir, size=508896)\n",
      "         - qrd (dir, size=288693)\n",
      "           - vvj (file, size=288693)\n",
      "         - vwtrwbc (dir, size=220203)\n",
      "           - dmp (file, size=220203)\n",
      "       - mmf (dir, size=4751559)\n",
      "         - bjlcfcfq.cct (file, size=134321)\n",
      "         - dvtbrnp (dir, size=355553)\n",
      "           - cllbb (file, size=108438)\n",
      "           - dcnsvp.nnv (file, size=247115)\n",
      "         - qrd (dir, size=419852)\n",
      "           - lvfpgjpm.bsf (file, size=13599)\n",
      "           - qrd.rgc (file, size=162188)\n",
      "           - wrl (file, size=144915)\n",
      "           - znn.bwr (file, size=99150)\n",
      "         - rfnnt (dir, size=267155)\n",
      "           - pwcvj.mff (file, size=267155)\n",
      "         - scfrnp.vtv (file, size=248903)\n",
      "         - sgrnztrg (dir, size=3220796)\n",
      "           - bbsd.mtl (file, size=96406)\n",
      "           - fqzt (dir, size=1532439)\n",
      "             - bbsd.mtl (file, size=133312)\n",
      "             - jrvwtcm (dir, size=1061715)\n",
      "               - lpv (dir, size=790283)\n",
      "                 - fvspj.ncn (file, size=167512)\n",
      "                 - hjqnflqq (file, size=152101)\n",
      "                 - jnzjz (dir, size=159850)\n",
      "                   - vqhljfwn.gvn (file, size=159850)\n",
      "                 - lmdtnsmr (file, size=150334)\n",
      "                 - pwcvj.wrq (file, size=160486)\n",
      "               - qrd (dir, size=271432)\n",
      "                 - cllbb (file, size=159400)\n",
      "                 - jmv.pcb (file, size=76692)\n",
      "                 - trrllrzh (file, size=35340)\n",
      "             - lvwvhh (dir, size=15938)\n",
      "               - cllbb (file, size=15938)\n",
      "             - qdmwttjf (dir, size=321474)\n",
      "               - bbsd.mtl (file, size=321474)\n",
      "           - fvspj.hgs (file, size=286557)\n",
      "           - fwnfzlsh (dir, size=611405)\n",
      "             - rdvjhjjr.bbt (file, size=293768)\n",
      "             - sjsst (file, size=231923)\n",
      "             - tftdtjn.gmj (file, size=85714)\n",
      "           - lpv (file, size=2681)\n",
      "           - nhdlzz (dir, size=357614)\n",
      "             - bbsd.mtl (file, size=32685)\n",
      "             - bjlcfcfq (file, size=144279)\n",
      "             - jvsrrdtl.cfg (file, size=87900)\n",
      "             - lpbl (file, size=92750)\n",
      "           - pqdf (file, size=307130)\n",
      "           - qjhqq.wpf (file, size=26564)\n",
      "         - tbnlqdjd.pvh (file, size=104979)\n",
      "       - prpmrtc (dir, size=705319)\n",
      "         - cllbb (file, size=246802)\n",
      "         - fvspj.qpw (file, size=168865)\n",
      "         - hblbht (dir, size=207362)\n",
      "           - bjlcfcfq.zmn (file, size=207362)\n",
      "         - lmdtnsmr (file, size=82290)\n",
      "       - zcwvc (file, size=157295)\n",
      "   - tgrplmn (dir, size=13900160)\n",
      "     - lpv (dir, size=12331326)\n",
      "       - bjlcfcfq (dir, size=8998590)\n",
      "         - dcl (dir, size=2125735)\n",
      "           - fvspj (dir, size=1267507)\n",
      "             - bwwc.gfq (file, size=23433)\n",
      "             - ldgjls.mmv (file, size=305839)\n",
      "             - mqbpjgpp (dir, size=294581)\n",
      "               - bjlcfcfq.qfd (file, size=236302)\n",
      "               - qrd (file, size=58279)\n",
      "             - qtwvsjj (file, size=289110)\n",
      "             - sbzmlctz (file, size=202233)\n",
      "             - wblvh.lmh (file, size=152311)\n",
      "           - hfjtj (dir, size=858228)\n",
      "             - fqv (file, size=314282)\n",
      "             - gfzcbpr.npj (file, size=28353)\n",
      "             - pvdzvvz.ndn (file, size=191265)\n",
      "             - qrd.qdj (file, size=324328)\n",
      "         - fvspj (dir, size=4787043)\n",
      "           - brcr (dir, size=1828715)\n",
      "             - bjlcfcfq (dir, size=8182)\n",
      "               - wvv.pcd (file, size=8182)\n",
      "             - grlppjws (dir, size=419812)\n",
      "               - pbjllgpv (dir, size=296139)\n",
      "                 - bwdbhm (file, size=296139)\n",
      "               - qrd (file, size=99788)\n",
      "               - vbfqvcb (dir, size=23885)\n",
      "                 - cfnqsdrq (file, size=23885)\n",
      "             - jflb (dir, size=463790)\n",
      "               - bbsd.mtl (file, size=242366)\n",
      "               - dmdrj (file, size=221424)\n",
      "             - tjw (dir, size=275534)\n",
      "               - btj.sdn (file, size=275534)\n",
      "             - wdnfspnt (dir, size=661397)\n",
      "               - fvspj.mhh (file, size=234653)\n",
      "               - gdmvncmd.glf (file, size=185475)\n",
      "               - llpmndb.smv (file, size=241269)\n",
      "           - jjhsmhq (dir, size=1641707)\n",
      "             - bjlcfcfq (dir, size=322155)\n",
      "               - cmfvqn.bnv (file, size=322155)\n",
      "             - cngcw (dir, size=385080)\n",
      "               - bwblfgg.tbh (file, size=225265)\n",
      "               - rdvjhjjr.bbt (file, size=159815)\n",
      "             - dgsh (dir, size=5999)\n",
      "               - qhb (file, size=5999)\n",
      "             - fvspj (dir, size=617374)\n",
      "               - jhvhb (dir, size=617374)\n",
      "                 - bbsd.mtl (file, size=284846)\n",
      "                 - btj.sdn (file, size=268772)\n",
      "                 - mjqm.wlj (file, size=63756)\n",
      "             - gfpg (file, size=75186)\n",
      "             - rdvjhjjr.bbt (file, size=222104)\n",
      "             - zhh (dir, size=13809)\n",
      "               - pbfbglt.vjl (file, size=13809)\n",
      "           - qrd.gqd (file, size=238436)\n",
      "           - vmdsrmpw (dir, size=1078185)\n",
      "             - fznqqt (dir, size=440320)\n",
      "               - bjlcfcfq.lhh (file, size=260619)\n",
      "               - cllbb (file, size=165606)\n",
      "               - tgnwqlp.npr (file, size=14095)\n",
      "             - hpmz (dir, size=269899)\n",
      "               - qhmsm (file, size=269899)\n",
      "             - pmmvztbv.rwd (file, size=249340)\n",
      "             - rljmwl.lfl (file, size=118626)\n",
      "         - jfd (dir, size=255103)\n",
      "           - lmdtnsmr (file, size=255103)\n",
      "         - nvqznb.fps (file, size=94415)\n",
      "         - rdvjhjjr.bbt (file, size=189235)\n",
      "         - sjmv (dir, size=595290)\n",
      "           - bbsd.mtl (file, size=231148)\n",
      "           - ctlcvb (dir, size=181515)\n",
      "             - bjlcfcfq.bvz (file, size=181515)\n",
      "           - lpv (dir, size=67110)\n",
      "             - cnbzsz (dir, size=67110)\n",
      "               - bjlcfcfq (file, size=67110)\n",
      "           - nztdclbs.vfq (file, size=63332)\n",
      "           - rzlc (file, size=52185)\n",
      "         - swzpgbv (dir, size=740238)\n",
      "           - qdswczwf (dir, size=740238)\n",
      "             - pbtmjh.rww (file, size=280757)\n",
      "             - rvnwwctv (dir, size=86468)\n",
      "               - lnww (dir, size=86468)\n",
      "                 - qrd (file, size=86468)\n",
      "             - tczj (file, size=79261)\n",
      "             - vppgbl (dir, size=167779)\n",
      "               - rdvjhjjr.bbt (file, size=167779)\n",
      "             - wbs.tvl (file, size=125973)\n",
      "         - trlprb (file, size=191980)\n",
      "         - wjzrjgp.wzt (file, size=19551)\n",
      "       - csmssc (dir, size=227296)\n",
      "         - vdpcbwr (file, size=227296)\n",
      "       - dpmr (dir, size=2014647)\n",
      "         - bjlcfcfq (dir, size=11283)\n",
      "           - ngcbs.mtd (file, size=11283)\n",
      "         - bqh (dir, size=1511465)\n",
      "           - hldwv (dir, size=1511465)\n",
      "             - lhtjslpz (dir, size=1059371)\n",
      "               - bbsd.mtl (file, size=114219)\n",
      "               - fvspj (dir, size=945152)\n",
      "                 - cllbb (file, size=253208)\n",
      "                 - tjzcwv (dir, size=291803)\n",
      "                   - rdvjhjjr.bbt (file, size=85489)\n",
      "                   - shsfppt (dir, size=206314)\n",
      "                     - fhgmvp.fmv (file, size=206314)\n",
      "                 - tzdp (dir, size=319129)\n",
      "                   - zvwhbg.qbf (file, size=319129)\n",
      "                 - vpwgc (dir, size=81012)\n",
      "                   - pclb.wdr (file, size=81012)\n",
      "             - lwzcvjvp.qjj (file, size=199950)\n",
      "             - qhdttjp.lcb (file, size=102516)\n",
      "             - qlbsp (dir, size=149628)\n",
      "               - fctp.hzz (file, size=149628)\n",
      "         - dgqftmss.njh (file, size=16258)\n",
      "         - fsdfwtm.vrq (file, size=34709)\n",
      "         - lmdtnsmr (file, size=145444)\n",
      "         - qrd.psl (file, size=241098)\n",
      "         - tlmdc (dir, size=54390)\n",
      "           - dbrt.bns (file, size=54390)\n",
      "       - grt (dir, size=166012)\n",
      "         - fdh (file, size=166012)\n",
      "       - hbrph (file, size=56546)\n",
      "       - nhpqln (file, size=133153)\n",
      "       - pwcvj (file, size=311003)\n",
      "       - pwcvj.vzf (file, size=196923)\n",
      "       - qjm (dir, size=28225)\n",
      "         - rdvjhjjr.bbt (file, size=28225)\n",
      "       - vjbrczs (dir, size=198931)\n",
      "         - cllbb (file, size=198931)\n",
      "     - mcl (dir, size=33750)\n",
      "       - qrd (dir, size=33750)\n",
      "         - ddhhs.vqq (file, size=33750)\n",
      "     - mnsfpzg.llt (file, size=284751)\n",
      "     - qswjwpb (dir, size=586155)\n",
      "       - fmfjcfj (file, size=35549)\n",
      "       - hjphpcbg (dir, size=245718)\n",
      "         - rsprrb (file, size=245718)\n",
      "       - lpv (dir, size=37017)\n",
      "         - pwcvj (file, size=37017)\n",
      "       - ztzz (file, size=267871)\n",
      "     - swzffqm.rgh (file, size=59462)\n",
      "     - tlcsgrsm (dir, size=604716)\n",
      "       - cnmjs.qnn (file, size=300513)\n",
      "       - jhcmjmnl.mzn (file, size=304203)\n",
      "   - tnhs (dir, size=6352538)\n",
      "     - gszv (dir, size=4012307)\n",
      "       - bbsd.mtl (file, size=83369)\n",
      "       - btj.sdn (file, size=70913)\n",
      "       - dmfbw (dir, size=1302361)\n",
      "         - jjw (file, size=252522)\n",
      "         - nqh (dir, size=116128)\n",
      "           - vpmc.tmw (file, size=116128)\n",
      "         - swlq (dir, size=817405)\n",
      "           - bslwvw (dir, size=565667)\n",
      "             - bbsd.mtl (file, size=67711)\n",
      "             - ptfw.llc (file, size=212000)\n",
      "             - qrd.qsp (file, size=285956)\n",
      "           - gqq (dir, size=88943)\n",
      "             - blgnqj (dir, size=88943)\n",
      "               - nphgztg.bfg (file, size=88943)\n",
      "           - lpv.fdh (file, size=162795)\n",
      "         - tgjhnwsq.fvb (file, size=116306)\n",
      "       - dnhpgb (dir, size=678075)\n",
      "         - bbsd.mtl (file, size=291670)\n",
      "         - cllbb (file, size=106989)\n",
      "         - plh.bcb (file, size=279416)\n",
      "       - fvspj (dir, size=899201)\n",
      "         - bcw (dir, size=235582)\n",
      "           - ptlfrl.sjv (file, size=235582)\n",
      "         - fvspj (file, size=102374)\n",
      "         - lmdtnsmr (file, size=230649)\n",
      "         - lpv (dir, size=58549)\n",
      "           - pwcvj.ctf (file, size=58549)\n",
      "         - zdfcv.jhm (file, size=272047)\n",
      "       - lmdtnsmr (file, size=97494)\n",
      "       - lpv (dir, size=776255)\n",
      "         - cllbb (file, size=77416)\n",
      "         - lgzmvj (dir, size=698839)\n",
      "           - fsmjc.grz (file, size=81760)\n",
      "           - nccf (file, size=318477)\n",
      "           - pwcvj.zbr (file, size=27650)\n",
      "           - qrd.fhf (file, size=270952)\n",
      "       - qrd.cpq (file, size=104639)\n",
      "     - lgh (dir, size=359139)\n",
      "       - hvtzr (file, size=87112)\n",
      "       - jdqm (file, size=208042)\n",
      "       - mwvszg.dlp (file, size=63985)\n",
      "     - mtbpfwqp (dir, size=764014)\n",
      "       - bzg.vzd (file, size=307186)\n",
      "       - lmdtnsmr (file, size=222517)\n",
      "       - lqnd (file, size=145642)\n",
      "       - zpnwp (dir, size=88669)\n",
      "         - jmqlmppg.dzv (file, size=88669)\n",
      "     - zhgqm (dir, size=1217078)\n",
      "       - pwcvj (dir, size=994519)\n",
      "         - cnpfdfcw (file, size=48736)\n",
      "         - csdfdgw (dir, size=100340)\n",
      "           - lmdtnsmr (file, size=100340)\n",
      "         - fvspj (dir, size=207884)\n",
      "           - fvspj (file, size=207884)\n",
      "         - jvpzg.gdl (file, size=312206)\n",
      "         - mfbszb.gfw (file, size=163843)\n",
      "         - rbfgptrl (file, size=161510)\n",
      "       - rzjhcp.rmw (file, size=222559)\n",
      "   - vqbnc.pls (file, size=124656)\n",
      " - mtd (dir, size=937878)\n",
      "   - mddvqd (dir, size=528065)\n",
      "     - qldj (dir, size=528065)\n",
      "       - dmb (file, size=211861)\n",
      "       - lpv (file, size=316204)\n",
      "   - tjhsj (dir, size=409813)\n",
      "     - fhhbq (dir, size=409813)\n",
      "       - bbsd.mtl (file, size=151883)\n",
      "       - dlfz.hgh (file, size=15864)\n",
      "       - fvspj.trt (file, size=242066)\n",
      " - pcpf (dir, size=964086)\n",
      "   - cllbb (file, size=85832)\n",
      "   - lpv (dir, size=194689)\n",
      "     - qrd.ctl (file, size=194689)\n",
      "   - nnz (file, size=35378)\n",
      "   - pwcvj.nqw (file, size=167437)\n",
      "   - zrvqgv (dir, size=480750)\n",
      "     - fspcfc.hcd (file, size=316695)\n",
      "     - qtdswzdg.rfv (file, size=164055)\n",
      " - qfttswwv (dir, size=4137776)\n",
      "   - btj.sdn (file, size=10747)\n",
      "   - cllbb (file, size=171061)\n",
      "   - tczrc (dir, size=1768465)\n",
      "     - bbsd.mtl (file, size=55851)\n",
      "     - bjlcfcfq (file, size=238655)\n",
      "     - gqrcsfp.srl (file, size=270809)\n",
      "     - hhjsmw (dir, size=147282)\n",
      "       - lmdtnsmr (file, size=147282)\n",
      "     - pwcvj (dir, size=780040)\n",
      "       - pwcvj (dir, size=726957)\n",
      "         - bbsd.mtl (file, size=173559)\n",
      "         - bjlcfcfq (dir, size=14879)\n",
      "           - cdttjfw (file, size=14879)\n",
      "         - dhnpch (dir, size=162094)\n",
      "           - lpv.gnt (file, size=162094)\n",
      "         - fvspj.bnr (file, size=1035)\n",
      "         - mcwjg.zwr (file, size=89588)\n",
      "         - qrd (file, size=104459)\n",
      "         - sjzqb (dir, size=181343)\n",
      "           - qrd.grj (file, size=181343)\n",
      "       - qncs (dir, size=53083)\n",
      "         - rdvjhjjr.bbt (file, size=53083)\n",
      "     - qtrdjb.lwj (file, size=92240)\n",
      "     - twqfttnb.zft (file, size=183588)\n",
      "   - vbzs (dir, size=2187503)\n",
      "     - bjlcfcfq (dir, size=98693)\n",
      "       - lfhvbqbr.dhb (file, size=98693)\n",
      "     - fvspj (dir, size=49016)\n",
      "       - sbdt.jvr (file, size=49016)\n",
      "     - jbgpjfp.rgf (file, size=68372)\n",
      "     - lpv (dir, size=1155425)\n",
      "       - gwdts (file, size=200303)\n",
      "       - hbnt (file, size=208633)\n",
      "       - lmdtnsmr (file, size=311252)\n",
      "       - pwcvj (dir, size=292769)\n",
      "         - mpnbhc.pjd (file, size=292769)\n",
      "       - qrp.flq (file, size=142468)\n",
      "     - mrlb (dir, size=294408)\n",
      "       - btj.sdn (file, size=294408)\n",
      "     - pwcvj (file, size=275661)\n",
      "     - pwcvj.vdn (file, size=245928)\n",
      " - qrd (dir, size=2179529)\n",
      "   - gmfgrfh (dir, size=1160617)\n",
      "     - bbsd.mtl (file, size=236737)\n",
      "     - btj.sdn (file, size=237212)\n",
      "     - cllbb (file, size=288952)\n",
      "     - jnq.dzb (file, size=217475)\n",
      "     - tfhhncs (file, size=180241)\n",
      "   - hcmghq (dir, size=829662)\n",
      "     - fgw (dir, size=407080)\n",
      "       - cllbb (file, size=11097)\n",
      "       - fvz (dir, size=216721)\n",
      "         - bjlcfcfq (file, size=216721)\n",
      "       - qrtdvnvv (dir, size=179262)\n",
      "         - lhtsg.hrn (file, size=179262)\n",
      "     - lpv.gnr (file, size=130490)\n",
      "     - pwcvj.fjl (file, size=292092)\n",
      "   - lpv.wpc (file, size=189250)\n",
      " - zwqgg (dir, size=516295)\n",
      "   - gqpfcv (dir, size=302445)\n",
      "     - mwzt (dir, size=302445)\n",
      "       - fvspj (file, size=302445)\n",
      "   - lpv (dir, size=38004)\n",
      "     - vrcbm.qtb (file, size=38004)\n",
      "   - qtgqnqh (dir, size=175846)\n",
      "     - pwcvj.bpm (file, size=175846)\n"
     ]
    }
   ],
   "source": [
    "#| output: false\n",
    "print(part1_tree)"
   ]
  },
  {
   "attachments": {
    "image.png": {
     "image/png": "[encoded data removed]"
    }
   },
   "cell_type": "markdown",
   "metadata": {},
   "source": [
    "Screenshot from output:\n",
    "\n",
    "![image.png](attachment:image.png)"
   ]
  },
  {
   "cell_type": "code",
   "execution_count": null,
   "metadata": {},
   "outputs": [
    {
     "data": {
      "text/plain": [
       "'182 from get_all_subdirs; 1014 commands, of which 183 cd to dir.'"
      ]
     },
     "execution_count": null,
     "metadata": {},
     "output_type": "execute_result"
    }
   ],
   "source": [
    "part1_subdirs = get_all_subdirs(part1_tree)\n",
    "data_dirs = [x for x in data if x.startswith(\"$ cd\") and not x.endswith(\"..\")]\n",
    "n_getall = len(part1_subdirs)\n",
    "f\"{n_getall} from get_all_subdirs; {len(data)} commands, of which {len(data_dirs)} cd to dir.\""
   ]
  },
  {
   "cell_type": "code",
   "execution_count": null,
   "metadata": {},
   "outputs": [],
   "source": [
    "assert n_getall <= len(data_dirs)\n",
    "assert len(data_dirs) < len(data)"
   ]
  },
  {
   "cell_type": "markdown",
   "metadata": {},
   "source": [
    "**Answer!**"
   ]
  },
  {
   "cell_type": "code",
   "execution_count": null,
   "metadata": {},
   "outputs": [
    {
     "data": {
      "text/plain": [
       "1667443"
      ]
     },
     "execution_count": null,
     "metadata": {},
     "output_type": "execute_result"
    }
   ],
   "source": [
    "sum_cutoff(part1_tree)\n"
   ]
  },
  {
   "cell_type": "markdown",
   "metadata": {},
   "source": [
    "* Guess 1: 66833 -> **Too low**\n",
    "* Guess 2: 214,201,382 -> **Too high** Oh gosh yes, it's larger than size of /!\n",
    "\n",
    "**D'oh!**  While some cleanups of the classes and functions no doubt helped, the core problem was:\n",
    "```\n",
    "sum_cutoff(root)\n",
    "```\n",
    "Rather than \n",
    "```\n",
    "sum_cutoff(part1_tree)\n",
    "```\n",
    "Copy/paste error: \"root\" was the _example_.  \n",
    "\n",
    "Correct answer for Part1: 1,667,443"
   ]
  },
  {
   "cell_type": "markdown",
   "metadata": {},
   "source": [
    "# Part 2\n",
    "\n",
    "The total disk space on the file system is 70_000_000.\n",
    "\n",
    "To run the update, you need unused space of at least 30_000_000. \n",
    "\n",
    "Find the **smallest** directory that, if deleted, would free up enough space on the filesystem to run the update. **What is the total size of that directory**?"
   ]
  },
  {
   "cell_type": "code",
   "execution_count": null,
   "metadata": {},
   "outputs": [
    {
     "name": "stdout",
     "output_type": "stream",
     "text": [
      "7,870,454 needed\n"
     ]
    }
   ],
   "source": [
    "disk_space = 70_000_000\n",
    "required = 30_000_000\n",
    "used = part1_tree.size\n",
    "free = disk_space - used\n",
    "needed = required - free\n",
    "print(f\"{needed:,} needed\")"
   ]
  },
  {
   "cell_type": "code",
   "execution_count": null,
   "metadata": {},
   "outputs": [
    {
     "data": {
      "text/plain": [
       "[('jpjgdm', 30324496),\n",
       " ('tgrplmn', 13900160),\n",
       " ('lpv', 12331326),\n",
       " ('bjlcfcfq', 8998590)]"
      ]
     },
     "execution_count": null,
     "metadata": {},
     "output_type": "execute_result"
    }
   ],
   "source": [
    "candidates = [x for x in part1_subdirs if x[1] > needed]\n",
    "candidates"
   ]
  },
  {
   "cell_type": "code",
   "execution_count": null,
   "metadata": {},
   "outputs": [
    {
     "data": {
      "text/plain": [
       "('bjlcfcfq', 8998590)"
      ]
     },
     "execution_count": null,
     "metadata": {},
     "output_type": "execute_result"
    }
   ],
   "source": [
    "min(candidates, key=lambda x: x[1])"
   ]
  },
  {
   "cell_type": "markdown",
   "metadata": {},
   "source": [
    "Well that was straightforward once I had Part 1!"
   ]
  },
  {
   "cell_type": "markdown",
   "metadata": {},
   "source": [
    "----\n",
    "Footer: nbdev magic"
   ]
  },
  {
   "cell_type": "code",
   "execution_count": null,
   "metadata": {},
   "outputs": [],
   "source": [
    "#| hide\n",
    "import nbdev; nbdev.nbdev_export()"
   ]
  }
 ],
 "metadata": {
  "kernelspec": {
   "display_name": "Python 3 (ipykernel)",
   "language": "python",
   "name": "python3"
  }
 },
 "nbformat": 4,
 "nbformat_minor": 4
}
