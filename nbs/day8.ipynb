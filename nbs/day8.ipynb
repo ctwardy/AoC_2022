{
 "cells": [
  {
   "cell_type": "markdown",
   "metadata": {},
   "source": [
    "# day8\n",
    "\n",
    "> Day : Treetop Tree House\n"
   ]
  },
  {
   "cell_type": "markdown",
   "metadata": {},
   "source": [
    "..."
   ]
  },
  {
   "cell_type": "code",
   "execution_count": null,
   "metadata": {},
   "outputs": [],
   "source": [
    "#| default_exp day8\n",
    "NAME = \"day8\""
   ]
  },
  {
   "cell_type": "code",
   "execution_count": null,
   "metadata": {},
   "outputs": [],
   "source": [
    "#| hide\n",
    "from nbdev.showdoc import *\n",
    "%load_ext autoreload\n",
    "%autoreload 2"
   ]
  },
  {
   "cell_type": "markdown",
   "metadata": {},
   "source": [
    "---"
   ]
  },
  {
   "cell_type": "markdown",
   "metadata": {},
   "source": [
    "# Example"
   ]
  },
  {
   "cell_type": "markdown",
   "metadata": {},
   "source": [
    "Each tree is represented as a single digit whose value is its height, where 0 is the shortest and 9 is the tallest."
   ]
  },
  {
   "cell_type": "code",
   "execution_count": null,
   "metadata": {},
   "outputs": [
    {
     "name": "stdout",
     "output_type": "stream",
     "text": [
      "[[3 0 3 7 3]\n",
      " [2 5 5 1 2]\n",
      " [6 5 3 3 2]\n",
      " [3 3 5 4 9]\n",
      " [3 5 3 9 0]]\n"
     ]
    }
   ],
   "source": [
    "#| exports\n",
    "import numpy as np\n",
    "\n",
    "example = \"\"\"\n",
    "30373\n",
    "25512\n",
    "65332\n",
    "33549\n",
    "35390\n",
    "\"\"\".strip().split()\n",
    "ex_heights = np.array([[int(x) for x in row] for row in example])\n",
    "print(ex_heights)"
   ]
  },
  {
   "cell_type": "markdown",
   "metadata": {},
   "source": [
    "A tree is visible if all of the other trees between it and an edge of the grid are shorter than it. Only consider trees in the same row or column; that is, only look up, down, left, or right from any given tree."
   ]
  },
  {
   "cell_type": "code",
   "execution_count": null,
   "metadata": {},
   "outputs": [],
   "source": [
    "#| exports\n",
    "#| code-fold: true\n",
    "\n",
    "def edges(heights: np.array) -> np.array:\n",
    "    \"\"\"Return Boolean grid with only edges == 1\"\"\"\n",
    "    x, y = heights.shape\n",
    "    return np.pad(np.zeros((x-2, y-2), dtype=bool),\n",
    "                  pad_width=1,\n",
    "                  constant_values=1)\n",
    "\n",
    "def vismap(heights: np.array) -> np.array:\n",
    "    \"\"\"Boolean map: is tree is tallest in some direction?\"\"\"\n",
    "    rows, cols = heights.shape\n",
    "    ans = edges(heights)\n",
    "    for i in range(1, rows-1):\n",
    "        for j in range(1, cols-1):\n",
    "            height = heights[i,j]\n",
    "            row, col = heights[i,:], heights[:,j]\n",
    "            ans[i,j] = ((row[:j] < height).all() or\n",
    "                        (col[:i] < height).all() or\n",
    "                        (row[j+1:] < height).all() or\n",
    "                        (col[i+1:] < height).all())\n",
    "    return ans"
   ]
  },
  {
   "cell_type": "code",
   "execution_count": null,
   "metadata": {},
   "outputs": [],
   "source": [
    "#| test\n",
    "assert (edges(ex_heights) == np.array(\n",
    "[[1,1,1,1,1],\n",
    " [1,0,0,0,1],\n",
    " [1,0,0,0,1],\n",
    " [1,0,0,0,1],\n",
    " [1,1,1,1,1]], dtype=bool)\n",
    "       ).all()"
   ]
  },
  {
   "cell_type": "code",
   "execution_count": null,
   "metadata": {},
   "outputs": [],
   "source": [
    "#| test\n",
    "assert (vismap(ex_heights) == np.array(\n",
    "[[1,1,1,1,1],\n",
    " [1,1,1,0,1],\n",
    " [1,1,0,1,1],\n",
    " [1,0,1,0,1],\n",
    " [1,1,1,1,1]], dtype=bool)\n",
    "       ).all()"
   ]
  },
  {
   "cell_type": "markdown",
   "metadata": {},
   "source": [
    "# Part 1"
   ]
  },
  {
   "cell_type": "markdown",
   "metadata": {},
   "source": [
    "## Get the data\n"
   ]
  },
  {
   "cell_type": "code",
   "execution_count": null,
   "metadata": {},
   "outputs": [],
   "source": [
    "with open(f\"data/{NAME}_input.txt\") as f:\n",
    "    data = f.read()\n",
    "data = data.strip().split(\"\\n\")\n",
    "data = np.array([[int(x) for x in row] for row in data])"
   ]
  },
  {
   "cell_type": "code",
   "execution_count": null,
   "metadata": {},
   "outputs": [
    {
     "data": {
      "text/plain": [
       "array([[ True,  True,  True, ...,  True,  True,  True],\n",
       "       [ True, False,  True, ..., False,  True,  True],\n",
       "       [ True,  True, False, ...,  True, False,  True],\n",
       "       ...,\n",
       "       [ True, False,  True, ..., False,  True,  True],\n",
       "       [ True, False,  True, ...,  True, False,  True],\n",
       "       [ True,  True,  True, ...,  True,  True,  True]])"
      ]
     },
     "execution_count": null,
     "metadata": {},
     "output_type": "execute_result"
    }
   ],
   "source": [
    "vismap(data)"
   ]
  },
  {
   "cell_type": "markdown",
   "metadata": {},
   "source": [
    "## Solve"
   ]
  },
  {
   "cell_type": "code",
   "execution_count": null,
   "metadata": {},
   "outputs": [
    {
     "data": {
      "text/plain": [
       "1825"
      ]
     },
     "execution_count": null,
     "metadata": {},
     "output_type": "execute_result"
    }
   ],
   "source": [
    "np.sum(vismap(data))"
   ]
  },
  {
   "cell_type": "markdown",
   "metadata": {},
   "source": [
    "# Part 2\n",
    "\n",
    "In the example above, consider the middle 5 in the second row:\n",
    "```\n",
    "30373\n",
    "25512\n",
    "65332\n",
    "33549\n",
    "35390\n",
    "```\n",
    "A tree's **scenic score** is found by multiplying together its viewing distance in each of the four directions. For this tree, this is 4 (found by multiplying 1 * 1 * 2 * 2)."
   ]
  },
  {
   "cell_type": "markdown",
   "metadata": {},
   "source": [
    "## Calc & Test `scenic_scores()`"
   ]
  },
  {
   "cell_type": "code",
   "execution_count": null,
   "metadata": {},
   "outputs": [],
   "source": [
    "#| exports\n",
    "#| code-fold: true\n",
    "\n",
    "def scenic_scores(heights: np.array) -> np.array:\n",
    "    \"\"\"Get scenic score of all trees from height map.\"\"\"\n",
    "    rows, cols = heights.shape\n",
    "    ans = np.ones_like(heights)\n",
    "    for i in range(rows):\n",
    "        for j in range(rows):\n",
    "            height = heights[i,j]\n",
    "            row, col = heights[i,:], heights[:,j]\n",
    "            #print(row, f\"({height})\")\n",
    "            #print(where_if(row[:j] >= height))\n",
    "            left = j - where_if(row[:j] >= height)[-1]\n",
    "            up = i - where_if(col[:i] >= height)[-1]\n",
    "            right = 1 + where_if(row[j+1:] >= height, cols-j-2)[0]\n",
    "            down = 1 + where_if(col[i+1:] >= height, rows-i-2)[0]\n",
    "            #print(f\"({i},{j}):\", left, up, right, down)\n",
    "            \n",
    "            ans[i,j] = left * up * right * down\n",
    "    return ans"
   ]
  },
  {
   "cell_type": "code",
   "execution_count": null,
   "metadata": {},
   "outputs": [],
   "source": [
    "#| exports\n",
    "#| code-fold: True\n",
    "\n",
    "def where_if(x, _else=0): \n",
    "    \"\"\"Returns where(x) or [_else] \"\"\"\n",
    "    _ = np.where(x)[0]\n",
    "    return _ if len(_) != 0 else _else * np.ones(1) \n",
    "\n",
    "def assert_all(mybool: np.array) -> None:\n",
    "    \"\"\"Wraps assert (foo > bar).all()\"\"\"\n",
    "    assert mybool.all()"
   ]
  },
  {
   "cell_type": "code",
   "execution_count": null,
   "metadata": {},
   "outputs": [],
   "source": [
    "#| test\n",
    "arr = np.array\n",
    "\n",
    "assert_all(where_if(arr([0,1,1,0])) == arr([1,2]))\n",
    "assert_all(where_if(arr([0,1,1,0]) > 0) == arr([1,2]))\n",
    "\n",
    "assert_all(where_if(arr([0,0,0]) > 0) == arr([0]))\n",
    "assert_all(where_if(arr([0,0,0]) > 0, _else=1) == arr([1]))"
   ]
  },
  {
   "cell_type": "code",
   "execution_count": null,
   "metadata": {},
   "outputs": [
    {
     "name": "stdout",
     "output_type": "stream",
     "text": [
      "[[0 0 0 0 0]\n",
      " [0 1 4 1 0]\n",
      " [0 6 1 2 0]\n",
      " [0 1 8 3 0]\n",
      " [0 0 0 0 0]]\n"
     ]
    }
   ],
   "source": [
    "print(scenic_scores(ex_heights))\n",
    "assert scenic_scores(ex_heights)[1,2] == 4\n",
    "assert (scenic_scores(ex_heights) == np.array(\n",
    "[[0,0,0,0,0],\n",
    " [0,1,4,1,0],\n",
    " [0,6,1,2,0],\n",
    " [0,1,8,3,0],\n",
    " [0,0,0,0,0]])\n",
    ").all()"
   ]
  },
  {
   "cell_type": "markdown",
   "metadata": {},
   "source": [
    "## Solve Part 2"
   ]
  },
  {
   "cell_type": "code",
   "execution_count": null,
   "metadata": {},
   "outputs": [
    {
     "data": {
      "text/plain": [
       "array([[ 0,  0,  0, ...,  0,  0,  0],\n",
       "       [ 0,  1, 14, ...,  1,  8,  0],\n",
       "       [ 0, 12, 12, ...,  8,  1,  0],\n",
       "       ...,\n",
       "       [ 0,  1,  2, ...,  1,  8,  0],\n",
       "       [ 0,  3,  8, ...,  8,  1,  0],\n",
       "       [ 0,  0,  0, ...,  0,  0,  0]])"
      ]
     },
     "execution_count": null,
     "metadata": {},
     "output_type": "execute_result"
    }
   ],
   "source": [
    "scenic_scores(data)"
   ]
  },
  {
   "cell_type": "code",
   "execution_count": null,
   "metadata": {},
   "outputs": [
    {
     "data": {
      "text/plain": [
       "235200"
      ]
     },
     "execution_count": null,
     "metadata": {},
     "output_type": "execute_result"
    }
   ],
   "source": [
    "np.max(scenic_scores(data))"
   ]
  },
  {
   "cell_type": "markdown",
   "metadata": {},
   "source": [
    "----\n",
    "Footer: nbdev magic"
   ]
  },
  {
   "cell_type": "code",
   "execution_count": null,
   "metadata": {},
   "outputs": [],
   "source": [
    "#| hide\n",
    "import nbdev; nbdev.nbdev_export()"
   ]
  }
 ],
 "metadata": {
  "kernelspec": {
   "display_name": "Python 3 (ipykernel)",
   "language": "python",
   "name": "python3"
  }
 },
 "nbformat": 4,
 "nbformat_minor": 4
}
