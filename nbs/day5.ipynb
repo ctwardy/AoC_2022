{
 "cells": [
  {
   "cell_type": "markdown",
   "metadata": {},
   "source": [
    "# day5\n",
    "\n",
    "> Day 5: Supply Stacks\n"
   ]
  },
  {
   "cell_type": "markdown",
   "metadata": {},
   "source": [
    "The elves want to know **which crate will end up on top of each stack**.\n",
    "\n",
    "The input is a picture of the crates and a list of crane instructions for moving them. Example:\n",
    "```    [D]    \n",
    "[N] [C]    \n",
    "[Z] [M] [P]\n",
    " 1   2   3 \n",
    "\n",
    "move 1 from 2 to 1\n",
    "move 3 from 1 to 3\n",
    "move 2 from 2 to 1\n",
    "move 1 from 1 to 2\n",
    "```\n",
    "\n",
    "Stack 1 has two crates: [N] and [Z]. Stack 2 has 3 crates; stack 3 has 1. \n",
    "\n",
    "* Step 1: move 1 crate from stack 2 to stack 1.\n",
    "* Step 2: move **3 crates** from 1 to 3\n",
    "\n",
    "::: {.callout-note}\n",
    "Crates are moved **one at a time**. \n",
    ":::"
   ]
  },
  {
   "cell_type": "code",
   "execution_count": null,
   "metadata": {},
   "outputs": [],
   "source": [
    "#| default_exp day5"
   ]
  },
  {
   "cell_type": "code",
   "execution_count": null,
   "metadata": {},
   "outputs": [],
   "source": [
    "#| hide\n",
    "from nbdev.showdoc import *\n",
    "%load_ext autoreload\n",
    "%autoreload 2"
   ]
  },
  {
   "cell_type": "markdown",
   "metadata": {},
   "source": [
    "# Example:\n",
    "Here is the starting position again."
   ]
  },
  {
   "cell_type": "code",
   "execution_count": null,
   "metadata": {},
   "outputs": [],
   "source": [
    "example = \"\"\"\n",
    "    [D]    \n",
    "[N] [C]    \n",
    "[Z] [M] [P]\n",
    " 1   2   3 \n",
    "\n",
    "move 1 from 2 to 1\n",
    "move 3 from 1 to 3\n",
    "move 2 from 2 to 1\n",
    "move 1 from 1 to 2\n",
    "\"\"\""
   ]
  },
  {
   "cell_type": "markdown",
   "metadata": {},
   "source": [
    "Okay, this is really two inputs separated by a blank line (`\\n\\n`).\n",
    "\n",
    "1. The first is the **start pos**, a **column-oriented** list with headers at the bottom.\n",
    "2. The second is the **move list**, effectively a **CSV** of `#, from_col, to_col`."
   ]
  },
  {
   "cell_type": "markdown",
   "metadata": {},
   "source": [
    "## Starting Position"
   ]
  },
  {
   "cell_type": "code",
   "execution_count": null,
   "metadata": {},
   "outputs": [
    {
     "name": "stdout",
     "output_type": "stream",
     "text": [
      "    [D]    \n",
      "[N] [C]    \n",
      "[Z] [M] [P]\n",
      " 1   2   3 \n"
     ]
    }
   ],
   "source": [
    "start = example.split(\"\\n\")[1:5]\n",
    "print(\"\\n\".join(start))"
   ]
  },
  {
   "cell_type": "markdown",
   "metadata": {},
   "source": [
    "Our data is in columns 1, 5, 9, ..., $N-1$."
   ]
  },
  {
   "cell_type": "code",
   "execution_count": null,
   "metadata": {},
   "outputs": [
    {
     "name": "stdout",
     "output_type": "stream",
     "text": [
      " ,D, \n",
      "N,C, \n",
      "Z,M,P\n",
      "1,2,3\n"
     ]
    }
   ],
   "source": [
    "N = len(start[0])\n",
    "state = [[row[i] for i in range(1, N, 4)]\n",
    "  for row in start]\n",
    "print(\"\\n\".join(\",\".join(x) for x in state))"
   ]
  },
  {
   "cell_type": "markdown",
   "metadata": {},
   "source": [
    "Okay, cool. Now the moves."
   ]
  },
  {
   "cell_type": "markdown",
   "metadata": {},
   "source": [
    "::: {.callout-note}\n",
    "About 30 minutes (!) to get to here plus documenting the steps below. How did that take so long?\n",
    ":::"
   ]
  },
  {
   "cell_type": "markdown",
   "metadata": {},
   "source": [
    "## Move List"
   ]
  },
  {
   "cell_type": "code",
   "execution_count": null,
   "metadata": {},
   "outputs": [
    {
     "name": "stdout",
     "output_type": "stream",
     "text": [
      "1,2,1\n",
      "3,1,3\n",
      "2,2,1\n",
      "1,1,2\n"
     ]
    }
   ],
   "source": [
    "moves = (example\n",
    "         .replace(\" \", \"\")\n",
    "         .replace(\"move\", \"\")\n",
    "         .replace(\"from\", \",\")\n",
    "         .replace(\"to\", \",\")\n",
    "         .split(\"\\n\")[6:-1]\n",
    "        )\n",
    "moves = [x.split(\",\") for x in moves]\n",
    "print(\"\\n\".join(\",\".join(x) for x in moves))"
   ]
  },
  {
   "cell_type": "markdown",
   "metadata": {},
   "source": [
    "What is it to do a move? Line 1 moves the top crate `D` from stack 2 to stack 1.  \n",
    "\n",
    "::: {.callout-note} About 45min here. Pausing - 9am, time to go to work. I've defined `move` below but not filled it out. I'm feeling pretty confident in the progress, but surprised how long it's taken. \n",
    ":::"
   ]
  },
  {
   "cell_type": "code",
   "execution_count": null,
   "metadata": {},
   "outputs": [],
   "source": [
    "def move(\n",
    "    n:    int|str,     # Move this many\n",
    "    from_col: int|str, # From this stack\n",
    "    to_col:   int|str, # To this stack\n",
    "    pos:  list         # Old position\n",
    "    )-> list:          # New position\n",
    "    \"\"\"Move `n` crates from `from_col` to `to_col`.\"\"\"\n",
    "    \n",
    "    n, from_col, to_col = int(n), int(from_col), int(to_col)\n",
    "    "
   ]
  },
  {
   "cell_type": "markdown",
   "metadata": {},
   "source": [
    "After Step 1:"
   ]
  },
  {
   "cell_type": "code",
   "execution_count": null,
   "metadata": {},
   "outputs": [],
   "source": [
    "step1 = \"\"\"\n",
    "[D]        \n",
    "[N] [C]    \n",
    "[Z] [M] [P]\n",
    " 1   2   3 \n",
    " \"\"\""
   ]
  },
  {
   "cell_type": "markdown",
   "metadata": {},
   "source": [
    "After Step 2:"
   ]
  },
  {
   "cell_type": "code",
   "execution_count": null,
   "metadata": {},
   "outputs": [],
   "source": [
    "step2 = \"\"\"\n",
    "        [Z]\n",
    "        [N]\n",
    "    [C] [D]\n",
    "    [M] [P]\n",
    " 1   2   3\n",
    " \"\"\""
   ]
  },
  {
   "cell_type": "markdown",
   "metadata": {},
   "source": [
    "After Step 3:"
   ]
  },
  {
   "cell_type": "code",
   "execution_count": null,
   "metadata": {},
   "outputs": [],
   "source": [
    "step3 = \"\"\"\n",
    "        [Z]\n",
    "        [N]\n",
    "[M]     [D]\n",
    "[C]     [P]\n",
    " 1   2   3\n",
    " \"\"\""
   ]
  },
  {
   "cell_type": "markdown",
   "metadata": {},
   "source": [
    "End, after Step 4:"
   ]
  },
  {
   "cell_type": "code",
   "execution_count": null,
   "metadata": {},
   "outputs": [],
   "source": [
    "step4 = \"\"\"\n",
    "        [Z]\n",
    "        [N]\n",
    "        [D]\n",
    "[C] [M] [P]\n",
    " 1   2   3\n",
    " \"\"\""
   ]
  },
  {
   "cell_type": "markdown",
   "metadata": {},
   "source": [
    "Crates on top are: **[C] [M] [Z]**. \n",
    "\n",
    "Answer would be `CMZ`."
   ]
  },
  {
   "cell_type": "markdown",
   "metadata": {},
   "source": [
    "## Solve Example"
   ]
  },
  {
   "cell_type": "code",
   "execution_count": null,
   "metadata": {},
   "outputs": [],
   "source": [
    "#| exports\n",
    "#| code-fold: true\n",
    "\n",
    "pass\n"
   ]
  },
  {
   "cell_type": "markdown",
   "metadata": {},
   "source": [
    "Test that"
   ]
  },
  {
   "cell_type": "code",
   "execution_count": null,
   "metadata": {},
   "outputs": [],
   "source": [
    "#| test\n",
    "\n",
    "#assert [contains(row) for row in assignments] == [False, False, False, True, True, False]"
   ]
  },
  {
   "cell_type": "markdown",
   "metadata": {},
   "source": [
    "# Part 1"
   ]
  },
  {
   "cell_type": "markdown",
   "metadata": {},
   "source": [
    "## Get the data\n"
   ]
  },
  {
   "cell_type": "code",
   "execution_count": null,
   "metadata": {},
   "outputs": [
    {
     "data": {
      "text/plain": [
       "['[B]                     [N]     [H]',\n",
       " '[V]         [P] [T]     [V]     [P]',\n",
       " '[W]     [C] [T] [S]     [H]     [N]']"
      ]
     },
     "execution_count": null,
     "metadata": {},
     "output_type": "execute_result"
    }
   ],
   "source": [
    "with open(\"data/day5_input.txt\") as f:\n",
    "    data = [x.strip() for x in f.readlines()]\n",
    "data[:3]"
   ]
  },
  {
   "cell_type": "markdown",
   "metadata": {},
   "source": [
    "## Run"
   ]
  },
  {
   "cell_type": "code",
   "execution_count": null,
   "metadata": {},
   "outputs": [],
   "source": [
    "# get\n",
    "# run\n",
    "# print"
   ]
  },
  {
   "cell_type": "markdown",
   "metadata": {},
   "source": [
    "# Part 2\n",
    "\n",
    "..."
   ]
  },
  {
   "cell_type": "code",
   "execution_count": null,
   "metadata": {},
   "outputs": [],
   "source": [
    "#| exports\n",
    "#| code-fold: true\n",
    "\n",
    "pass"
   ]
  },
  {
   "cell_type": "markdown",
   "metadata": {},
   "source": [
    "## Run"
   ]
  },
  {
   "cell_type": "code",
   "execution_count": null,
   "metadata": {},
   "outputs": [],
   "source": [
    "#| test\n",
    "#overlaps = [overlap(x) for x in get_assignments(data)]\n",
    "#f\"{sum(overlaps):,} assignments overlap at all.\""
   ]
  },
  {
   "cell_type": "markdown",
   "metadata": {},
   "source": [
    " "
   ]
  },
  {
   "cell_type": "code",
   "execution_count": null,
   "metadata": {},
   "outputs": [],
   "source": [
    "#| hide\n",
    "import nbdev; nbdev.nbdev_export()"
   ]
  }
 ],
 "metadata": {
  "kernelspec": {
   "display_name": "Python 3 (ipykernel)",
   "language": "python",
   "name": "python3"
  }
 },
 "nbformat": 4,
 "nbformat_minor": 4
}
