{
 "cells": [
  {
   "cell_type": "markdown",
   "metadata": {},
   "source": [
    "# day5\n",
    "\n",
    "> Day 5: Supply Stacks\n"
   ]
  },
  {
   "cell_type": "markdown",
   "metadata": {},
   "source": [
    "The elves want to know **which crate will end up on top of each stack**.\n",
    "\n",
    "The input is a picture of the crates and a list of crane instructions for moving them. Example:\n",
    "```    [D]    \n",
    "[N] [C]    \n",
    "[Z] [M] [P]\n",
    " 1   2   3 \n",
    "\n",
    "move 1 from 2 to 1\n",
    "move 3 from 1 to 3\n",
    "move 2 from 2 to 1\n",
    "move 1 from 1 to 2\n",
    "```\n",
    "\n",
    "Stack 1 has two crates: [N] and [Z]. Stack 2 has 3 crates; stack 3 has 1. \n",
    "\n",
    "* Step 1: move 1 crate from stack 2 to stack 1.\n",
    "* Step 2: move **3 crates** from 1 to 3\n",
    "\n",
    "::: {.callout-note}\n",
    "Crates are moved **one at a time**. \n",
    ":::"
   ]
  },
  {
   "cell_type": "code",
   "execution_count": null,
   "metadata": {},
   "outputs": [],
   "source": [
    "#| default_exp day5"
   ]
  },
  {
   "cell_type": "code",
   "execution_count": null,
   "metadata": {},
   "outputs": [],
   "source": [
    "#| hide\n",
    "from nbdev.showdoc import *\n",
    "%load_ext autoreload\n",
    "%autoreload 2"
   ]
  },
  {
   "cell_type": "markdown",
   "metadata": {},
   "source": [
    "# Example:\n",
    "Here is the starting position again."
   ]
  },
  {
   "cell_type": "code",
   "execution_count": null,
   "metadata": {},
   "outputs": [
    {
     "name": "stdout",
     "output_type": "stream",
     "text": [
      "    [D]    \n",
      "[N] [C]    \n",
      "[Z] [M] [P]\n",
      " 1   2   3 \n",
      "\n",
      "move 1 from 2 to 1\n",
      "move 3 from 1 to 3\n",
      "move 2 from 2 to 1\n",
      "move 1 from 1 to 2\n"
     ]
    }
   ],
   "source": [
    "example = \"\"\"\n",
    "    [D]    \n",
    "[N] [C]    \n",
    "[Z] [M] [P]\n",
    " 1   2   3 \n",
    "\n",
    "move 1 from 2 to 1\n",
    "move 3 from 1 to 3\n",
    "move 2 from 2 to 1\n",
    "move 1 from 1 to 2\n",
    "\"\"\".strip(\"\\n\")   # Drop leading blank\n",
    "print(example)"
   ]
  },
  {
   "cell_type": "markdown",
   "metadata": {},
   "source": [
    "Okay, this is really two inputs separated by a blank line (`\\n\\n`).\n",
    "\n",
    "1. The first is the **start pos**, a **column-oriented** list with headers at the bottom.\n",
    "2. The second is the **move list**, effectively a **CSV** of `#, from_col, to_col`."
   ]
  },
  {
   "cell_type": "markdown",
   "metadata": {},
   "source": [
    "## Starting Position"
   ]
  },
  {
   "cell_type": "code",
   "execution_count": null,
   "metadata": {},
   "outputs": [
    {
     "name": "stdout",
     "output_type": "stream",
     "text": [
      "    [D]    \n",
      "[N] [C]    \n",
      "[Z] [M] [P]\n",
      " 1   2   3 \n",
      "\n",
      "move 1 from 2 to 1\n",
      "move 3 from 1 to 3\n",
      "move 2 from 2 to 1\n",
      "move 1 from 1 to 2\n"
     ]
    }
   ],
   "source": [
    "start = example.split(\"\\n\")\n",
    "print(\"\\n\".join(start))"
   ]
  },
  {
   "cell_type": "markdown",
   "metadata": {},
   "source": [
    "The input data is in two parts split by `\\n\\n`:\n",
    "\n",
    "* **state** is in rows 1-4, columns 1, 5, 9, ..., $N-1$.  **Count by 4**\n",
    "* **plan** is in rows 6-9, basically CSV."
   ]
  },
  {
   "cell_type": "code",
   "execution_count": null,
   "metadata": {},
   "outputs": [
    {
     "data": {
      "text/plain": [
       "' '"
      ]
     },
     "execution_count": null,
     "metadata": {},
     "output_type": "execute_result"
    }
   ],
   "source": [
    "# Confirm the blanks go to the end of row\n",
    "start[0][9]"
   ]
  },
  {
   "cell_type": "code",
   "execution_count": null,
   "metadata": {},
   "outputs": [],
   "source": [
    "#| export\n",
    "#| code-fold: true\n",
    "def get_state(rowdata: list[str]  # Data as if readlines\n",
    "            )-> list[list[str]]:  # Row-oriented list, top-down\n",
    "    ncols = len(rowdata[0])\n",
    "    nrows = rowdata.index(\"\") - 1\n",
    "    return [[row[i] \n",
    "             for i in range(1, ncols, 4)]\n",
    "            for row in rowdata[:nrows]]\n",
    "\n",
    "def print_state(state: list[list[str]])-> None:\n",
    "    \"\"\"Print a picture of the state. Stacks should be vertical.\"\"\"\n",
    "    print(\"\\n\".join(\" \".join(x) for x in state))\n",
    "    print(\" \".join(f\"{i+1}\" for i in range(len(state[0]))))\n"
   ]
  },
  {
   "cell_type": "code",
   "execution_count": null,
   "metadata": {},
   "outputs": [
    {
     "name": "stdout",
     "output_type": "stream",
     "text": [
      "  D  \n",
      "N C  \n",
      "Z M P\n",
      "1 2 3\n"
     ]
    }
   ],
   "source": [
    "state = get_state(start)\n",
    "print_state(state)"
   ]
  },
  {
   "cell_type": "markdown",
   "metadata": {},
   "source": [
    "But it became clear I'd want that as actual stacks."
   ]
  },
  {
   "cell_type": "code",
   "execution_count": null,
   "metadata": {},
   "outputs": [],
   "source": [
    "import numpy as np\n",
    "from collections import deque"
   ]
  },
  {
   "cell_type": "markdown",
   "metadata": {},
   "source": [
    "Convert picture to list of stacks, removing blanks. \n",
    "If we kept the blanks this would be a simple `.T` transpose in numpy,\n",
    "but we want ragged stacks or we will stack crates on air. "
   ]
  },
  {
   "cell_type": "code",
   "execution_count": null,
   "metadata": {},
   "outputs": [],
   "source": [
    "#| exports\n",
    "#| code-fold: true\n",
    "\n",
    "def stackify(state: list[list] # Crate state in visual format\n",
    "            )-> list[deque]:   # State as list of stacks, no blanks\n",
    "    \"\"\"Convert row-oriented input to compact stacks, top=right.\"\"\"\n",
    "    nrows, ncols = len(state), len(state[0])\n",
    "    return [deque([state[row][col] for row in range(nrows-1,-1,-1)\n",
    "                if state[row][col] != \" \"])\n",
    "            for col in range(ncols)]\n",
    "\n",
    "def print_stacks(stacks: list[deque])-> None:\n",
    "    \"\"\"Print a horizontally-oriented picture of stacks\"\"\"\n",
    "    N = max(len(row) for row in stacks)\n",
    "    pad = [\"  \"*(N - len(row)) for row in stacks]\n",
    "    for i, stack in enumerate(stacks):\n",
    "        print(f\"{(i+1)} {' '.join(stack)}{pad[i]}\")"
   ]
  },
  {
   "cell_type": "code",
   "execution_count": null,
   "metadata": {},
   "outputs": [],
   "source": [
    "#| test\n",
    "_ = [[' ', 'D', ' '],\n",
    "     ['N', 'C', ' '],\n",
    "     ['Z', 'M', 'P'],\n",
    "     ['1', '2', '3']]\n",
    "\n",
    "assert stackify(_) == [deque(['1', 'Z', 'N']), deque(['2', 'M', 'C', 'D']), deque(['3', 'P'])]"
   ]
  },
  {
   "cell_type": "code",
   "execution_count": null,
   "metadata": {},
   "outputs": [
    {
     "name": "stdout",
     "output_type": "stream",
     "text": [
      "1 Z N  \n",
      "2 M C D\n",
      "3 P    \n"
     ]
    }
   ],
   "source": [
    "stacks = stackify(state)\n",
    "print_stacks(stacks)"
   ]
  },
  {
   "cell_type": "markdown",
   "metadata": {},
   "source": [
    "## Move List"
   ]
  },
  {
   "cell_type": "code",
   "execution_count": null,
   "metadata": {},
   "outputs": [],
   "source": [
    "def get_moves(rowdata: list[str]  # As from readlines\n",
    "             )-> list[list[int]]: # [[n, from_col, to_col], ...\n",
    "    \"\"\"Extract move data from input\"\"\"\n",
    "    start = rowdata.index(\"\") + 1\n",
    "    moves = (\"\\n\".join(rowdata[start:])\n",
    "             .replace(\" \", \"\")\n",
    "             .replace(\"move\", \"\")\n",
    "             .replace(\"from\", \",\")\n",
    "             .replace(\"to\", \",\")\n",
    "             .split(\"\\n\")#[:-1]\n",
    "            )\n",
    "    return [x.split(\",\") for x in moves]\n",
    "\n",
    "def print_moves(moves: list[list[int]])-> None:\n",
    "    \"\"\"Verbosely print a terse movelist.\"\"\"\n",
    "    print(\"\\n\".join(f\"Move {n} from {old} to {new}\" for n, old, new in moves))"
   ]
  },
  {
   "cell_type": "code",
   "execution_count": null,
   "metadata": {},
   "outputs": [
    {
     "name": "stdout",
     "output_type": "stream",
     "text": [
      "Move 1 from 2 to 1\n",
      "Move 3 from 1 to 3\n",
      "Move 2 from 2 to 1\n",
      "Move 1 from 1 to 2\n"
     ]
    }
   ],
   "source": [
    "#| test\n",
    "moves = get_moves(start)\n",
    "print_moves(moves)"
   ]
  },
  {
   "cell_type": "markdown",
   "metadata": {},
   "source": [
    "What is it to do a move? Line 1 moves the top crate `D` from stack 2 to stack 1.  Iterated on these with some REPL. Quickly became clear I wanted `state` to be stacks so made a quick change to rotate the lists 90º and use `deque`.  (Really could just use lists.)\n",
    "\n",
    "Note the `-1` to correct for 0-indexing. Would be nicer to include a hidden stack 0 so we don't need that. Later."
   ]
  },
  {
   "cell_type": "code",
   "execution_count": null,
   "metadata": {},
   "outputs": [],
   "source": [
    "#| exports\n",
    "#| code-fold: true\n",
    "\n",
    "def move(\n",
    "    n:    int|str,     # Move this many\n",
    "    from_col: int|str, # From this stack\n",
    "    to_col:   int|str, # To this stack\n",
    "    pos:  list,        # Position -> Will be CHANGED!\n",
    "    )-> None:\n",
    "    \"\"\"Move `n` crates from `from_col` to `to_col`. Modifies in place.\"\"\"\n",
    "    n, from_col, to_col = int(n), int(from_col), int(to_col)\n",
    "    for i in range(n):\n",
    "        move1box(pos[from_col - 1], pos[to_col - 1])\n",
    "\n",
    "def move1box(\n",
    "    from_stack: deque, # From this stack\n",
    "    to_stack:   deque, # To this stack\n",
    "    )-> None:          # Modifies in place\n",
    "    \"\"\"Move 1 crates from `from_stack` to `to_stack`.\"\"\"\n",
    "    to_stack.append(from_stack.pop())\n"
   ]
  },
  {
   "cell_type": "markdown",
   "metadata": {},
   "source": [
    "::: {.callout-note} Took about 45min to get to this point with the _first_ versions of `move` and `move1box`, then had to stop for work. Given how straightforward this is, I'm suprised how long it takes me - documenting, thinking, little iterations & tests. \n",
    ":::"
   ]
  },
  {
   "cell_type": "code",
   "execution_count": null,
   "metadata": {},
   "outputs": [
    {
     "data": {
      "text/plain": [
       "[deque([]), deque(['M', 'C', 'D', 'N', 'Z']), deque(['P'])]"
      ]
     },
     "execution_count": null,
     "metadata": {},
     "output_type": "execute_result"
    }
   ],
   "source": [
    "stacks = stackify(state)\n",
    "move(2, 1, 2, stacks)\n",
    "stacks"
   ]
  },
  {
   "cell_type": "markdown",
   "metadata": {},
   "source": [
    "## Solve Example"
   ]
  },
  {
   "cell_type": "markdown",
   "metadata": {},
   "source": [
    "### After Step 1:\n",
    "Should be"
   ]
  },
  {
   "cell_type": "code",
   "execution_count": null,
   "metadata": {},
   "outputs": [],
   "source": [
    "step1 = \"\"\"\n",
    "[D]        \n",
    "[N] [C]    \n",
    "[Z] [M] [P]\n",
    " 1   2   3 \n",
    " \"\"\""
   ]
  },
  {
   "cell_type": "code",
   "execution_count": null,
   "metadata": {},
   "outputs": [
    {
     "name": "stdout",
     "output_type": "stream",
     "text": [
      "1 Z N D\n",
      "2 M C  \n",
      "3 P    \n"
     ]
    }
   ],
   "source": [
    "stacks = stackify(state)\n",
    "move(*moves[0], stacks)\n",
    "print_stacks(stacks)"
   ]
  },
  {
   "cell_type": "markdown",
   "metadata": {},
   "source": [
    "After Step 2:"
   ]
  },
  {
   "cell_type": "code",
   "execution_count": null,
   "metadata": {},
   "outputs": [],
   "source": [
    "step2 = \"\"\"\n",
    "        [Z]\n",
    "        [N]\n",
    "    [C] [D]\n",
    "    [M] [P]\n",
    " 1   2   3\n",
    " \"\"\""
   ]
  },
  {
   "cell_type": "code",
   "execution_count": null,
   "metadata": {},
   "outputs": [
    {
     "name": "stdout",
     "output_type": "stream",
     "text": [
      "1         \n",
      "2 M C    \n",
      "3 P D N Z\n"
     ]
    }
   ],
   "source": [
    "move(*moves[1], stacks)\n",
    "print_stacks(stacks)"
   ]
  },
  {
   "cell_type": "markdown",
   "metadata": {},
   "source": [
    "After Step 3:"
   ]
  },
  {
   "cell_type": "code",
   "execution_count": null,
   "metadata": {},
   "outputs": [],
   "source": [
    "step3 = \"\"\"\n",
    "        [Z]\n",
    "        [N]\n",
    "[M]     [D]\n",
    "[C]     [P]\n",
    " 1   2   3\n",
    " \"\"\""
   ]
  },
  {
   "cell_type": "code",
   "execution_count": null,
   "metadata": {},
   "outputs": [
    {
     "name": "stdout",
     "output_type": "stream",
     "text": [
      "1 C M    \n",
      "2         \n",
      "3 P D N Z\n"
     ]
    }
   ],
   "source": [
    "move(*moves[2], stacks)\n",
    "print_stacks(stacks)"
   ]
  },
  {
   "cell_type": "markdown",
   "metadata": {},
   "source": [
    "End, after Step 4:"
   ]
  },
  {
   "cell_type": "code",
   "execution_count": null,
   "metadata": {},
   "outputs": [],
   "source": [
    "step4 = \"\"\"\n",
    "        [Z]\n",
    "        [N]\n",
    "        [D]\n",
    "[C] [M] [P]\n",
    " 1   2   3\n",
    " \"\"\""
   ]
  },
  {
   "cell_type": "code",
   "execution_count": null,
   "metadata": {},
   "outputs": [
    {
     "name": "stdout",
     "output_type": "stream",
     "text": [
      "1 C      \n",
      "2 M      \n",
      "3 P D N Z\n"
     ]
    }
   ],
   "source": [
    "move(*moves[3], stacks)\n",
    "print_stacks(stacks)"
   ]
  },
  {
   "cell_type": "markdown",
   "metadata": {},
   "source": [
    "Crates on top are: **[C] [M] [Z]**. \n",
    "\n",
    "Answer would be `CMZ`."
   ]
  },
  {
   "cell_type": "code",
   "execution_count": null,
   "metadata": {},
   "outputs": [],
   "source": [
    "#| export\n",
    "#| code-fold: true\n",
    "def top_crates(stacks: list[deque]  # List of stacks\n",
    "              )-> str:              # Crates on top\n",
    "    \"\"\"Find the crates on top of each stack\"\"\"\n",
    "    return \"\".join(stack[-1] for stack in stacks)"
   ]
  },
  {
   "cell_type": "markdown",
   "metadata": {},
   "source": [
    "Test that"
   ]
  },
  {
   "cell_type": "code",
   "execution_count": null,
   "metadata": {},
   "outputs": [],
   "source": [
    "#| test\n",
    "\n",
    "assert top_crates(stacks) == \"CMZ\""
   ]
  },
  {
   "cell_type": "markdown",
   "metadata": {},
   "source": [
    "# Part 1"
   ]
  },
  {
   "cell_type": "markdown",
   "metadata": {},
   "source": [
    "## Get the data\n"
   ]
  },
  {
   "cell_type": "code",
   "execution_count": null,
   "metadata": {},
   "outputs": [
    {
     "data": {
      "text/plain": [
       "['[B]                     [N]     [H]',\n",
       " '[V]         [P] [T]     [V]     [P]',\n",
       " '[W]     [C] [T] [S]     [H]     [N]']"
      ]
     },
     "execution_count": null,
     "metadata": {},
     "output_type": "execute_result"
    }
   ],
   "source": [
    "with open(\"data/day5_input.txt\") as f:\n",
    "    data = [x.strip() for x in f.readlines()]\n",
    "data[:3]"
   ]
  },
  {
   "cell_type": "markdown",
   "metadata": {},
   "source": [
    "## Run"
   ]
  },
  {
   "cell_type": "code",
   "execution_count": null,
   "metadata": {},
   "outputs": [
    {
     "data": {
      "text/plain": [
       "'PSNRGBTFT'"
      ]
     },
     "execution_count": null,
     "metadata": {},
     "output_type": "execute_result"
    }
   ],
   "source": [
    "stacks = stackify(get_state(data))\n",
    "for _ in get_moves(data):\n",
    "    move(*_, stacks)\n",
    "top_crates(stacks)\n"
   ]
  },
  {
   "cell_type": "markdown",
   "metadata": {},
   "source": [
    "# Part 2\n",
    "\n",
    "**Oops!** This crane can pick up all the boxen at once!  It doesn't have to go one at a time.\n",
    "\n",
    "Write a `moveall`, rerun, and say what the top crates will be."
   ]
  },
  {
   "cell_type": "code",
   "execution_count": null,
   "metadata": {},
   "outputs": [
    {
     "data": {
      "text/plain": [
       "deque([1, 4, 5, 6])"
      ]
     },
     "execution_count": null,
     "metadata": {},
     "output_type": "execute_result"
    }
   ],
   "source": [
    "d = deque([3,4,5,6])\n",
    "e = deque([1])\n",
    "for x in reversed([d.pop() for i in range(3)]):\n",
    "    e.append(x)\n",
    "e"
   ]
  },
  {
   "cell_type": "code",
   "execution_count": null,
   "metadata": {},
   "outputs": [],
   "source": [
    "#| exports\n",
    "#| code-fold: true\n",
    "\n",
    "def moveall(\n",
    "    n:    int|str,     # Move this many\n",
    "    from_col: int|str, # From this stack\n",
    "    to_col:   int|str, # To this stack\n",
    "    pos:  list,        # Position -> Will be CHANGED!\n",
    "    )-> None:\n",
    "    \"\"\"Move `n` crates from `from_col` to `to_col` AS A GROUP.\"\"\"\n",
    "    n, from_col, to_col = int(n), int(from_col), int(to_col)\n",
    "    old, new = pos[from_col - 1], pos[to_col - 1]\n",
    "    for x in reversed([old.pop() for i in range(n)]):\n",
    "        new.append(x)"
   ]
  },
  {
   "cell_type": "markdown",
   "metadata": {},
   "source": [
    "## Run"
   ]
  },
  {
   "cell_type": "code",
   "execution_count": null,
   "metadata": {},
   "outputs": [
    {
     "data": {
      "text/plain": [
       "'BNTZFPMMW'"
      ]
     },
     "execution_count": null,
     "metadata": {},
     "output_type": "execute_result"
    }
   ],
   "source": [
    "stacks = stackify(get_state(data))\n",
    "for _ in get_moves(data):\n",
    "    moveall(*_, stacks)\n",
    "top_crates(stacks)\n"
   ]
  },
  {
   "cell_type": "code",
   "execution_count": null,
   "metadata": {},
   "outputs": [],
   "source": [
    "#| test\n",
    "#overlaps = [overlap(x) for x in get_assignments(data)]\n",
    "#f\"{sum(overlaps):,} assignments overlap at all.\""
   ]
  },
  {
   "cell_type": "markdown",
   "metadata": {},
   "source": [
    " "
   ]
  },
  {
   "cell_type": "code",
   "execution_count": null,
   "metadata": {},
   "outputs": [],
   "source": [
    "#| hide\n",
    "import nbdev; nbdev.nbdev_export()"
   ]
  }
 ],
 "metadata": {
  "kernelspec": {
   "display_name": "Python 3 (ipykernel)",
   "language": "python",
   "name": "python3"
  }
 },
 "nbformat": 4,
 "nbformat_minor": 4
}
